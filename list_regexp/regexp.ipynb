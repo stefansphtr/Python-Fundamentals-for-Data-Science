{
 "cells": [
  {
   "cell_type": "markdown",
   "metadata": {},
   "source": [
    "# List of Regular Expression for Data Cleaning and Validation\n",
    "- Author: @stefansphtr\n",
    "- Date: February 29, 2024\n",
    "---"
   ]
  },
  {
   "cell_type": "markdown",
   "metadata": {},
   "source": [
    "## List of Regular Expression for Data Cleaning"
   ]
  },
  {
   "cell_type": "markdown",
   "metadata": {},
   "source": [
    "### 1. Whitespace removal\n",
    "\n",
    "Whitespace at the beginning and end of strings can cause issues. The regex `^\\s+|\\s+$` can be used to identify and remove leading and trailing whitespace."
   ]
  },
  {
   "cell_type": "code",
   "execution_count": null,
   "metadata": {},
   "outputs": [],
   "source": [
    "import re\n",
    "\n",
    "# Example of using regular expressions to remove whitespace\n",
    "text = \"   Hello, World!   \"\n",
    "clean_text = re.sub(r\"^\\s+|\\s+$\", \"\", text)\n",
    "print(clean_text)"
   ]
  },
  {
   "cell_type": "markdown",
   "metadata": {},
   "source": [
    "### 2. Punctuation \n",
    "\n",
    "Punctuation can cause problems when searching for strings in text. The regex `[^\\w\\s]` can be used to remove all punctuation from a string."
   ]
  },
  {
   "cell_type": "code",
   "execution_count": null,
   "metadata": {},
   "outputs": [],
   "source": [
    "import re\n",
    "\n",
    "text = \"Hello, World!\"\n",
    "clean_text = re.sub(r\"[^\\w\\s]\", \"\", text)\n",
    "print(clean_text)"
   ]
  },
  {
   "cell_type": "markdown",
   "metadata": {},
   "source": [
    "### 3. Digit removal \n",
    "\n",
    "Digit removal is useful when cleaning text data. The regex `\\d` can be used to identify and remove digits from a string."
   ]
  },
  {
   "cell_type": "code",
   "execution_count": null,
   "metadata": {},
   "outputs": [],
   "source": [
    "import re\n",
    "\n",
    "text = \"This is a test. 1 2 3\"\n",
    "# Remove digits from the text without separating the words\n",
    "clean_text = re.sub(r\"\\d\", \"\", text)\n",
    "print(clean_text)\n"
   ]
  },
  {
   "cell_type": "markdown",
   "metadata": {},
   "source": [
    "### 4. Non-ASCII characters removal \n",
    "\n",
    "Non-ASCII characters can cause issues when working with text data. The regex `[^\\x00-\\x7F]+` can be used to remove non-ASCII characters from a string."
   ]
  },
  {
   "cell_type": "code",
   "execution_count": null,
   "metadata": {},
   "outputs": [],
   "source": [
    "import re\n",
    "\n",
    "# Define a string that contains both ASCII and non-ASCII characters\n",
    "text = \"This is the example こんにちは\"\n",
    "\n",
    "# The regular expression \"[^\\x00-\\x7F]+\" matches any non-ASCII character. Here's how:\n",
    "# \"[^\\x00-\\x7F]+\" is a character set that matches any character that is not (^) in the range from \\x00 to \\x7F.\n",
    "# \\x00-\\x7F is the range of ASCII characters, so [^\\x00-\\x7F] matches any non-ASCII character.\n",
    "# The plus sign (+) means that the regex matches one or more of these non-ASCII characters.\n",
    "\n",
    "# Use the sub method to replace all non-ASCII characters in the text with an empty string\n",
    "clean_text = re.sub(r\"[^\\x00-\\x7F]+\", \"\", text)\n",
    "\n",
    "# Print the cleaned text\n",
    "print(clean_text)"
   ]
  },
  {
   "cell_type": "markdown",
   "metadata": {},
   "source": [
    "### 5. Email extraction \n",
    "\n",
    "Extracting email addresses from text data can be useful. The regex `\\b[A-Za-z0-9._%+-]+@[A-Za-z0-9.-]+\\.[A-Z|a-z]{2,}\\b` can be used to extract email addresses from a string."
   ]
  },
  {
   "cell_type": "code",
   "execution_count": null,
   "metadata": {},
   "outputs": [],
   "source": [
    "import re\n",
    "\n",
    "# Define a string that contains an email address\n",
    "text = \"This is an example text with an email address: example@example.com\"\n",
    "\n",
    "# The regular expression \"\\b[A-Za-z0-9._%+-]+@[A-Za-z0-9.-]+\\.[A-Z|a-z]{2,}\\b\" matches any email address. Here's how:\n",
    "# \"\\b\" is a word boundary. This ensures that the pattern matches an entire word and not a part of a word.\n",
    "# \"[A-Za-z0-9._%+-]+\" matches one or more (+) of the following:\n",
    "# - any uppercase or lowercase letter ([A-Za-z]),\n",
    "# - any digit ([0-9]),\n",
    "# - any of the special characters in the set [._%+-].\n",
    "# This part matches the username part of the email address.\n",
    "# \"@\" matches the @ symbol in an email address.\n",
    "# \"[A-Za-z0-9.-]+\" matches one or more (+) of the following:\n",
    "# - any uppercase or lowercase letter ([A-Za-z]),\n",
    "# - any digit ([0-9]),\n",
    "# - either a dot (.) or a hyphen (-).\n",
    "# This part matches the domain name of the email address.\n",
    "# \"\\.[A-Z|a-z]{2,}\" matches a dot (.) followed by two or more ({2,}) uppercase or lowercase letters ([A-Z|a-z]).\n",
    "# This part matches the top-level domain of the email address, like 'com', 'org', 'net', etc.\n",
    "# \"\\b\" is another word boundary, ensuring the pattern matches the end of the word.\n",
    "email_regex = r\"\\b[A-Za-z0-9._%+-]+@[A-Za-z0-9.-]+\\.[A-Z|a-z]{2,}\\b\"\n",
    "\n",
    "# Use the findall method to find all matches of the regex in the text\n",
    "emails = re.findall(email_regex, text)\n",
    "\n",
    "# Print the list of found email addresses\n",
    "print(emails)"
   ]
  },
  {
   "cell_type": "markdown",
   "metadata": {},
   "source": [
    "### 6. URL extraction\n",
    "\n",
    "Extracting URLs from text data can be useful. The regex `(http|https)://[^\\s]+` can be used to extract URLs from a string."
   ]
  },
  {
   "cell_type": "code",
   "execution_count": null,
   "metadata": {},
   "outputs": [],
   "source": [
    "import re\n",
    "\n",
    "# Define a string that contains a URL\n",
    "text = \"This is a sample text with a URL: https://www.example.com\"\n",
    "\n",
    "# The regular expression \"http[s]?://(?:[a-zA-Z]|[0-9]|[$-_@.&+]|[!*\\\\(\\\\),]|(?:%[0-9a-fA-F][0-9a-fA-F]))+\" matches any URL. Here's how:\n",
    "# \"http[s]?://\" matches the start of a URL (http:// or https://).\n",
    "# \"(?:[a-zA-Z]|[0-9]|[$-_@.&+]|[!*\\\\(\\\\),]|(?:%[0-9a-fA-F][0-9a-fA-F]))+\" is a non-capturing group (indicated by (?:...)) that matches 1 or more (+) of the following:\n",
    "# - any uppercase or lowercase letter ([a-zA-Z]),\n",
    "# - any digit ([0-9]),\n",
    "# - any of the special characters in the set [$-_@.&+],\n",
    "# - any of the special characters in the set [!*\\\\(\\\\),],\n",
    "# - any two hexadecimal digits preceded by a % sign (URL encoding).\n",
    "url_regex = r\"http[s]?://(?:[a-zA-Z]|[0-9]|[$-_@.&+]|[!*\\\\(\\\\),]|(?:%[0-9a-fA-F][0-9a-fA-F]))+\"\n",
    "\n",
    "# Use the findall method to find all matches of the regex in the text\n",
    "urls = re.findall(url_regex, text)\n",
    "\n",
    "# Print the list of found URLs\n",
    "print(urls)"
   ]
  },
  {
   "cell_type": "markdown",
   "metadata": {},
   "source": [
    "### 7. HTML tags removal \n",
    "\n",
    "HTML tags can cause issues when working with text data. The regex `<[^>]*>` can be used to remove HTML tags from a string."
   ]
  },
  {
   "cell_type": "code",
   "execution_count": null,
   "metadata": {},
   "outputs": [],
   "source": [
    "import re\n",
    "\n",
    "# Define a string that contains HTML tags\n",
    "text = \"This is a <b>sample</b> text with <i>HTML</i> tags.\"\n",
    "\n",
    "# The regular expression \"<.*?>\" matches any HTML tag. Here's how:\n",
    "# \"<\" matches the opening angle bracket of the HTML tag.\n",
    "# \".*?\" is a non-greedy match for any character (.) any number of times (*), \n",
    "# as few times as possible to make the match (?). This matches the content of the HTML tag.\n",
    "# \">\" matches the closing angle bracket of the HTML tag.\n",
    "\n",
    "# The regular expression \"<[^>]*>\" also matches any HTML tag, but in a different way:\n",
    "# \"<\" matches the opening angle bracket of the HTML tag.\n",
    "# \"[^>]*\" matches any character that is not a closing angle bracket (>) any number of times (*). \n",
    "# This matches the content of the HTML tag.\n",
    "# \">\" matches the closing angle bracket of the HTML tag.\n",
    "# This regex is more specific because it will not match strings that span multiple HTML tags.\n",
    "\n",
    "# Uncomment the line below to use the \"<[^>]*>\" regex\n",
    "# clean_text = re.sub(r\"<[^>]*>\", \"\", text)\n",
    "\n",
    "# Use the \"<.*?>\" regex to remove all HTML tags from the text\n",
    "clean_text = re.sub(r\"<.*?>\", \"\", text)\n",
    "\n",
    "# Print the cleaned text\n",
    "print(clean_text)"
   ]
  }
 ],
 "metadata": {
  "kernelspec": {
   "display_name": "Python 3",
   "language": "python",
   "name": "python3"
  },
  "language_info": {
   "codemirror_mode": {
    "name": "ipython",
    "version": 3
   },
   "file_extension": ".py",
   "mimetype": "text/x-python",
   "name": "python",
   "nbconvert_exporter": "python",
   "pygments_lexer": "ipython3",
   "version": "3.11.8"
  }
 },
 "nbformat": 4,
 "nbformat_minor": 2
}
