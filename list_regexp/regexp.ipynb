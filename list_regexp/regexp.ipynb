{
 "cells": [
  {
   "cell_type": "markdown",
   "metadata": {},
   "source": [
    "# List of Regular Expression for Data Cleaning and Validation\n",
    "- Author: @stefansphtr\n",
    "- Date: February 29, 2024\n",
    "---"
   ]
  },
  {
   "cell_type": "markdown",
   "metadata": {},
   "source": [
    "## List of Regular Expression for Data Cleaning"
   ]
  },
  {
   "cell_type": "markdown",
   "metadata": {},
   "source": [
    "### 1. Whitespace removal\n",
    "\n",
    "Whitespace at the beginning and end of strings can cause issues. The regex `^\\s+|\\s+$` can be used to identify and remove leading and trailing whitespace."
   ]
  },
  {
   "cell_type": "code",
   "execution_count": null,
   "metadata": {},
   "outputs": [],
   "source": [
    "import re\n",
    "\n",
    "# Example of using regular expressions to remove whitespace\n",
    "text = \"   Hello, World!   \"\n",
    "clean_text = re.sub(r\"^\\s+|\\s+$\", \"\", text)\n",
    "print(clean_text)"
   ]
  },
  {
   "cell_type": "markdown",
   "metadata": {},
   "source": [
    "### 2. Punctuation \n",
    "\n",
    "Punctuation can cause problems when searching for strings in text. The regex `[^\\w\\s]` can be used to remove all punctuation from a string."
   ]
  },
  {
   "cell_type": "code",
   "execution_count": null,
   "metadata": {},
   "outputs": [],
   "source": [
    "import re\n",
    "\n",
    "text = \"Hello, World!\"\n",
    "clean_text = re.sub(r\"[^\\w\\s]\", \"\", text)\n",
    "print(clean_text)"
   ]
  },
  {
   "cell_type": "markdown",
   "metadata": {},
   "source": [
    "### 3. Digit removal \n",
    "\n",
    "Digit removal is useful when cleaning text data. The regex `\\d` can be used to identify and remove digits from a string."
   ]
  },
  {
   "cell_type": "code",
   "execution_count": null,
   "metadata": {},
   "outputs": [],
   "source": [
    "import re\n",
    "\n",
    "text = \"This is a test. 1 2 3\"\n",
    "# Remove digits from the text without separating the words\n",
    "clean_text = re.sub(r\"\\d\", \"\", text)\n",
    "print(clean_text)\n"
   ]
  },
  {
   "cell_type": "markdown",
   "metadata": {},
   "source": [
    "### 4. Non-ASCII characters removal \n",
    "\n",
    "Non-ASCII characters can cause issues when working with text data. The regex `[^\\x00-\\x7F]+` can be used to remove non-ASCII characters from a string."
   ]
  },
  {
   "cell_type": "code",
   "execution_count": null,
   "metadata": {},
   "outputs": [],
   "source": [
    "import re\n",
    "import re\n",
    "\n",
    "# Example of text that contains ASCII characters\n",
    "text = \"This is the example こんにちは\"\n",
    "clean_text = re.sub(r\"[^\\x00-\\x7F]+\", \"\", text)\n",
    "print(clean_text)"
   ]
  },
  {
   "cell_type": "markdown",
   "metadata": {},
   "source": [
    "### 5. Email extraction \n",
    "\n",
    "Extracting email addresses from text data can be useful. The regex `\\b[A-Za-z0-9._%+-]+@[A-Za-z0-9.-]+\\.[A-Z|a-z]{2,}\\b` can be used to extract email addresses from a string."
   ]
  },
  {
   "cell_type": "code",
   "execution_count": null,
   "metadata": {},
   "outputs": [],
   "source": [
    "import re\n",
    "\n",
    "text = \"This is an example text with an email address: example@example.com\"\n",
    "email_regex = r\"\\b[A-Za-z0-9._%+-]+@[A-Za-z0-9.-]+\\.[A-Z|a-z]{2,}\\b\"\n",
    "emails = re.findall(email_regex, text)\n",
    "\n",
    "print(emails)\n"
   ]
  },
  {
   "cell_type": "markdown",
   "metadata": {},
   "source": [
    "### 6. URL extraction\n",
    "\n",
    "Extracting URLs from text data can be useful. The regex `(http|https)://[^\\s]+` can be used to extract URLs from a string."
   ]
  },
  {
   "cell_type": "code",
   "execution_count": null,
   "metadata": {},
   "outputs": [],
   "source": [
    "import re\n",
    "\n",
    "text = \"This is a sample text with a URL: https://www.example.com\"\n",
    "url_regex = r\"http[s]?://(?:[a-zA-Z]|[0-9]|[$-_@.&+]|[!*\\\\(\\\\),]|(?:%[0-9a-fA-F][0-9a-fA-F]))+\"\n",
    "urls = re.findall(url_regex, text)\n",
    "\n",
    "print(urls)"
   ]
  },
  {
   "cell_type": "markdown",
   "metadata": {},
   "source": [
    "### 7. HTML tags removal \n",
    "\n",
    "HTML tags can cause issues when working with text data. The regex `<[^>]*>` can be used to remove HTML tags from a string."
   ]
  },
  {
   "cell_type": "code",
   "execution_count": null,
   "metadata": {},
   "outputs": [],
   "source": [
    "import re\n",
    "\n",
    "text = \"This is a <b>sample</b> text with <i>HTML</i> tags.\"\n",
    "# clean_text = re.sub(r\"<[^>]*>\", \"\", text)\n",
    "clean_text = re.sub(r\"<.*?>\", \"\", text)\n",
    "print(clean_text)\n"
   ]
  }
 ],
 "metadata": {
  "kernelspec": {
   "display_name": "Python 3",
   "language": "python",
   "name": "python3"
  },
  "language_info": {
   "codemirror_mode": {
    "name": "ipython",
    "version": 3
   },
   "file_extension": ".py",
   "mimetype": "text/x-python",
   "name": "python",
   "nbconvert_exporter": "python",
   "pygments_lexer": "ipython3",
   "version": "3.11.8"
  }
 },
 "nbformat": 4,
 "nbformat_minor": 2
}
