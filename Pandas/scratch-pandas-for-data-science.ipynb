{
 "cells": [
  {
   "cell_type": "markdown",
   "metadata": {},
   "source": [
    "# Pandas for Data Science\n",
    "\n",
    "This notebook contains the code of the pandas library for data science\n"
   ]
  },
  {
   "cell_type": "code",
   "execution_count": null,
   "metadata": {},
   "outputs": [],
   "source": [
    "# Import necessary library\n",
    "import numpy as np\n",
    "import pandas as pd\n",
    "from io import StringIO"
   ]
  },
  {
   "cell_type": "markdown",
   "metadata": {},
   "source": [
    "## Numpy\n"
   ]
  },
  {
   "cell_type": "markdown",
   "metadata": {},
   "source": [
    "`np.array` is a function that returns a new numpy array object, which is an instance of `np.ndarray`.\n",
    "\n",
    "`np.ndarray` is the actual data type, while `np.array` is a function to create an ndarray.\n",
    "\n",
    "In practice, you'll almost always use `np.array` to create your arrays. This is because `np.ndarray` is a low-level method for creating arrays and does not support many of the convenient syntax features that `np.array` does, such as creating an array from a list.\n"
   ]
  },
  {
   "cell_type": "code",
   "execution_count": null,
   "metadata": {},
   "outputs": [],
   "source": [
    "# np.array\n",
    "list_1 = [1, 2, 3, 4, 5]\n",
    "first_array = np.array(list_1)\n",
    "print(first_array)"
   ]
  },
  {
   "cell_type": "markdown",
   "metadata": {},
   "source": [
    "# Pandas\n"
   ]
  },
  {
   "cell_type": "markdown",
   "metadata": {},
   "source": [
    "- **Series**: A Series is a one-dimensional labeled array capable of holding any data type (integers, strings, floating point numbers, Python objects, etc.). The axis labels are collectively referred to as the index. You can think of a Series as a single column of data in a table.\n"
   ]
  },
  {
   "cell_type": "code",
   "execution_count": null,
   "metadata": {},
   "outputs": [],
   "source": [
    "# Series\n",
    "ages = np.array([15, 24, np.nan, 35])\n",
    "series_1 = pd.Series(ages)\n",
    "series_1"
   ]
  },
  {
   "cell_type": "code",
   "execution_count": null,
   "metadata": {},
   "outputs": [],
   "source": [
    "# Indexing Series\n",
    "series_2 = pd.Series(ages, index=[\"Emma\", \"Brown\", \"Jake\", \"Drake\"])\n",
    "series_2"
   ]
  },
  {
   "cell_type": "markdown",
   "metadata": {},
   "source": [
    "- **DataFrame**: A DataFrame is a two-dimensional labeled data structure with columns of potentially different types. You can think of it like a spreadsheet or SQL table, or a dict of Series objects. It is generally the most commonly used pandas object.\n"
   ]
  },
  {
   "cell_type": "code",
   "execution_count": null,
   "metadata": {},
   "outputs": [],
   "source": [
    "# Dataframe by passing a dictionary of objects where the keys are the column labels and the values are the column values.\n",
    "df = pd.DataFrame(\n",
    "    {\n",
    "        \"datetime\": pd.Timestamp(\"20130102\"),\n",
    "        \"random_list\": pd.Series(1, index=list(range(4)), dtype=\"float32\"),\n",
    "        \"random_array\": np.array([3] * 4, dtype=\"float32\"),\n",
    "        \"random_categorical\": pd.Categorical([\"test\", \"train\", \"test\", \"train\"]),\n",
    "        \"single_string\": \"gugu\",\n",
    "    }\n",
    ")\n",
    "\n",
    "df"
   ]
  },
  {
   "cell_type": "markdown",
   "metadata": {},
   "source": [
    "- Set index: `df.set_index('column_name')`\n"
   ]
  },
  {
   "cell_type": "code",
   "execution_count": null,
   "metadata": {},
   "outputs": [],
   "source": [
    "# Set index\n",
    "df.set_index(\"random_array\", inplace=True)\n",
    "df"
   ]
  },
  {
   "cell_type": "markdown",
   "metadata": {},
   "source": [
    "- Date Range: `pd.date_range(start='2019-01-01', end='2019-01-31', freq='D')`\n",
    "- Date Range: `pd.date_range(start='2019-01-01', periods=31, freq='D')`\n",
    "- Date Range: `pd.date_range(start='2019-01-01', periods=12, freq='M')`\n",
    "- Date Range: `pd.date_range(start='2019-01-01', periods=12, freq='MS')`\n",
    "- Date Range: `pd.date_range(start='2019-01-01', periods=12, freq='QS')`\n",
    "- Date Range: `pd.date_range(start='2019-01-01', periods=12, freq='Q')`\n",
    "- Date Range: `pd.date_range(start='2019-01-01', periods=12, freq='YS')`\n",
    "- Date Range: `pd.date_range(start='2019-01-01', periods=12, freq='Y')`\n",
    "- Date Range: `pd.date_range(start='2019-01-01', periods=12, freq='AS')`\n"
   ]
  },
  {
   "cell_type": "code",
   "execution_count": null,
   "metadata": {},
   "outputs": [],
   "source": [
    "# Create a Dataframe with datetime index\n",
    "dates = pd.date_range(\"20200101\", periods=6, freq=\"M\")\n",
    "dates"
   ]
  },
  {
   "cell_type": "code",
   "execution_count": null,
   "metadata": {},
   "outputs": [],
   "source": [
    "# Create a dataframe object from a 6x4 arrays of random floats\n",
    "# Index it with the dates, and name the columns as \"A\", \"B\", \"C\", \"D\"\n",
    "df = pd.DataFrame(np.random.randn(6, 4), index=dates, columns=[\"A\", \"B\", \"C\", \"D\"])\n",
    "df"
   ]
  },
  {
   "cell_type": "code",
   "execution_count": null,
   "metadata": {},
   "outputs": [],
   "source": [
    "# Create a dataframe object from a 6x4 arrays of random floats\n",
    "# Index it with dates and name the columns as \"num1\", \"num2\", \"num3\"\n",
    "df = pd.DataFrame(np.random.randn(6, 3), index=dates, columns=[\"num1\", \"num2\", \"num3\"])\n",
    "df"
   ]
  },
  {
   "cell_type": "code",
   "execution_count": null,
   "metadata": {},
   "outputs": [],
   "source": [
    "# Remove the index in dataframe\n",
    "df.reset_index(drop=True, inplace=True)\n",
    "df"
   ]
  },
  {
   "cell_type": "code",
   "execution_count": null,
   "metadata": {},
   "outputs": [],
   "source": [
    "df.dtypes"
   ]
  },
  {
   "cell_type": "code",
   "execution_count": null,
   "metadata": {},
   "outputs": [],
   "source": [
    "# Create a DataFrame\n",
    "df = pd.DataFrame({\"B\": [1, 2, 3], \"A\": [4, 5, 6], \"D\": [7, 8, 9], \"C\": [10, 11, 12]})\n",
    "df"
   ]
  },
  {
   "cell_type": "code",
   "execution_count": null,
   "metadata": {},
   "outputs": [],
   "source": [
    "# Sort DataFrame by column labels\n",
    "df.sort_index(axis=1, inplace=True)\n",
    "df"
   ]
  },
  {
   "cell_type": "code",
   "execution_count": null,
   "metadata": {},
   "outputs": [],
   "source": [
    "# Sort DataFrame by column labels\n",
    "df.sort_index(axis=1, inplace=True, ascending=False)\n",
    "df"
   ]
  },
  {
   "cell_type": "code",
   "execution_count": null,
   "metadata": {},
   "outputs": [],
   "source": [
    "df[\"D\"]"
   ]
  },
  {
   "cell_type": "code",
   "execution_count": null,
   "metadata": {},
   "outputs": [],
   "source": [
    "df.D"
   ]
  },
  {
   "cell_type": "markdown",
   "metadata": {},
   "source": [
    "- Selection by lable: `df.loc['row_name']`\n"
   ]
  },
  {
   "cell_type": "code",
   "execution_count": null,
   "metadata": {},
   "outputs": [],
   "source": [
    "# Create a dataframe object from a 6x4 arrays of random floats\n",
    "# Index it with dates and name the columns as \"num1\", \"num2\", \"num3\"\n",
    "df = pd.DataFrame(np.random.randn(6, 3), index=dates, columns=[\"num1\", \"num2\", \"num3\"])\n",
    "df"
   ]
  },
  {
   "cell_type": "code",
   "execution_count": null,
   "metadata": {},
   "outputs": [],
   "source": [
    "df.loc[dates[0:3]]"
   ]
  },
  {
   "cell_type": "code",
   "execution_count": null,
   "metadata": {},
   "outputs": [],
   "source": [
    "df.loc[:, [\"num1\", \"num2\"]]"
   ]
  },
  {
   "cell_type": "markdown",
   "metadata": {},
   "source": [
    "- Selection by position: `df.iloc[0]`\n"
   ]
  },
  {
   "cell_type": "code",
   "execution_count": null,
   "metadata": {},
   "outputs": [],
   "source": [
    "df"
   ]
  },
  {
   "cell_type": "code",
   "execution_count": null,
   "metadata": {},
   "outputs": [],
   "source": [
    "df.iloc[2]"
   ]
  },
  {
   "cell_type": "code",
   "execution_count": null,
   "metadata": {},
   "outputs": [],
   "source": [
    "df.iloc[0:3, 0:2]"
   ]
  },
  {
   "cell_type": "code",
   "execution_count": null,
   "metadata": {},
   "outputs": [],
   "source": [
    "# Save dataframe to the csv\n",
    "df.to_csv(\"./data/table.csv\")"
   ]
  },
  {
   "cell_type": "code",
   "execution_count": null,
   "metadata": {},
   "outputs": [],
   "source": [
    "# Load the data csv\n",
    "df1 = pd.read_csv(\"./data/table.csv\")\n",
    "df1"
   ]
  },
  {
   "cell_type": "code",
   "execution_count": null,
   "metadata": {},
   "outputs": [],
   "source": [
    "df2 = pd.DataFrame(\n",
    "    [\n",
    "        [\"January\", 100, 100, 23, 100],\n",
    "        [\"February\", 51, 45, 145, 45],\n",
    "        [\"March\", 81, 96, 65, 96],\n",
    "        [\"April\", 80, 80, 54, 180],\n",
    "        [\"May\", 51, 54, 54, 154],\n",
    "        [\"June\", 112, 109, 79, 129],\n",
    "    ],\n",
    "    columns=[\"month\", \"clinic_east\", \"clinic_north\", \"clinic_south\", \"clinic_west\"],\n",
    ")"
   ]
  },
  {
   "cell_type": "code",
   "execution_count": null,
   "metadata": {},
   "outputs": [],
   "source": [
    "df2[df2.month == \"April\"]"
   ]
  },
  {
   "cell_type": "code",
   "execution_count": null,
   "metadata": {},
   "outputs": [],
   "source": [
    "march_april = df2[(df2.month == \"March\") | (df2.month == \"April\")]\n",
    "march_april"
   ]
  },
  {
   "cell_type": "code",
   "execution_count": null,
   "metadata": {},
   "outputs": [],
   "source": [
    "orders = pd.read_csv(\"./data/shoefly.csv\")\n",
    "df3 = pd.DataFrame(orders)\n",
    "emails = df3.email\n",
    "frances_palmer = df3[df3.first_name == \"Frances\"]\n",
    "comfy_shoes = df3[df3.shoe_type.isin([\"clogs\", \"boots\", \"ballet flats\"])]\n",
    "\n",
    "print(orders.head(5))\n",
    "print(emails)\n",
    "print(frances_palmer)\n",
    "print(comfy_shoes)"
   ]
  },
  {
   "cell_type": "code",
   "execution_count": null,
   "metadata": {},
   "outputs": [],
   "source": [
    "first = 1\n",
    "second = 2\n",
    "third = 3\n",
    "\n",
    "print(\n",
    "    \"This is the first number {one}, the second number: {two}, and the third number: {three}\".format(\n",
    "        one=first, two=second, three=third\n",
    "    )\n",
    ")\n",
    "\n",
    "print(\n",
    "    f\"This is the first number {first}, the second number: {second}, and the third number: {third}\"\n",
    ")"
   ]
  },
  {
   "cell_type": "code",
   "execution_count": null,
   "metadata": {},
   "outputs": [],
   "source": [
    "df3.head(10)"
   ]
  },
  {
   "cell_type": "code",
   "execution_count": null,
   "metadata": {},
   "outputs": [],
   "source": [
    "df3[\"description\"] = df3.apply(\n",
    "    lambda row: f\"{row.first_name} {row.last_name} bought {row.shoe_color} {row.shoe_type} from material {row.shoe_material}\",\n",
    "    axis=1,\n",
    ")\n",
    "df3.head(10)"
   ]
  },
  {
   "cell_type": "code",
   "execution_count": null,
   "metadata": {},
   "outputs": [],
   "source": [
    "text = \"id,\tname,\thourly_wage,\thours_worked,\\\n",
    "10310,\tLauren Durham,\t19,\t43,\\\n",
    "18656,\tGrace Sellers,\t17,\t40,\\\n",
    "61254,\tShirley Rasmussen,\t16,\t30,\\\n",
    "16886,\tBrian Rojas,\t18,\t47,\\\n",
    "89010,\tSamantha Mosley,\t11,\t38,\\\n",
    "87246,\tLouis Guzman,\t14,\t39,\\\n",
    "20578,\tDenise Mcclure,\t15,\t40,\\\n",
    "12869,\tJames Raymond,\t15,\t32,\\\n",
    "53461,\tNoah Collier,\t18,\t35,\\\n",
    "14746,\tDonna Frederick,\t20,\t41,\\\n",
    "171127,\tShirley Beck,\t14,\t32,\\\n",
    "192522,\tChristina Kelly,\t8,\t44,\\\n",
    "122447,\tBrian Noble,\t11,\t39,\\\n",
    "161654,\tRandy Key,\t16,\t38,\\\n",
    "116988,\tDiana Stewart,\t14,\t48,\\\n",
    "168619,\tTimothy Sosa,\t14,\t42,\\\n",
    "159949,\tBetty Skinner,\t11,\t48,\\\n",
    "181418,\tJanet Maxwell,\t12,\t38,\\\n",
    "127267,\tMadison Johnston,\t20,\t37,\\\n",
    "119985,\tVirginia Nichols,\t13,\t49,\""
   ]
  },
  {
   "cell_type": "code",
   "execution_count": null,
   "metadata": {},
   "outputs": [],
   "source": [
    "cleaned_text = text.strip(\"\")\n",
    "\n",
    "print(cleaned_text)"
   ]
  },
  {
   "cell_type": "code",
   "execution_count": null,
   "metadata": {},
   "outputs": [],
   "source": [
    "splitted = cleaned_text.split(\",\")\n",
    "print(splitted)"
   ]
  },
  {
   "cell_type": "code",
   "execution_count": null,
   "metadata": {},
   "outputs": [],
   "source": [
    "# Remove leading '\\t' from each string\n",
    "data = [item.strip() for item in splitted]\n",
    "print(data)"
   ]
  },
  {
   "cell_type": "code",
   "execution_count": null,
   "metadata": {},
   "outputs": [],
   "source": [
    "# Group every four elements together\n",
    "rows = [data[i : i + 4] for i in range(0, len(data), 4)]\n",
    "print(rows)"
   ]
  },
  {
   "cell_type": "code",
   "execution_count": null,
   "metadata": {},
   "outputs": [],
   "source": [
    "# Join the elements of each row with a comma\n",
    "csv_rows = [\",\".join(row) for row in rows]\n",
    "print(csv_rows)"
   ]
  },
  {
   "cell_type": "code",
   "execution_count": null,
   "metadata": {},
   "outputs": [],
   "source": [
    "# Join all the rows with a newline\n",
    "csv_data = \"\\n\".join(csv_rows)\n",
    "print(csv_data)"
   ]
  },
  {
   "cell_type": "code",
   "execution_count": null,
   "metadata": {},
   "outputs": [],
   "source": [
    "# Convert the string csv data to a dataframe\n",
    "df_csv = pd.read_csv(StringIO(csv_data))"
   ]
  },
  {
   "cell_type": "code",
   "execution_count": null,
   "metadata": {},
   "outputs": [],
   "source": [
    "# View the DataFrame\n",
    "df_csv.head(10)"
   ]
  },
  {
   "cell_type": "code",
   "execution_count": null,
   "metadata": {},
   "outputs": [],
   "source": [
    "# Write the DataFrame into csv\n",
    "df_csv.to_csv(\"./data/worker.csv\", index=False)"
   ]
  },
  {
   "cell_type": "markdown",
   "metadata": {},
   "source": [
    "The `index=False` argument in the `to_csv` function is used to tell pandas not to write the DataFrame's index into the CSV file.\n",
    "\n",
    "By default, `to_csv` writes the DataFrame's index as the first column in the CSV file. If your DataFrame's index is not meaningful and you don't want it to be written into the CSV file, you can set `index=False`.\n",
    "\n",
    "For example, if your DataFrame `df` looks like this:\n",
    "\n",
    "|     | A   | B   |\n",
    "| --- | --- | --- |\n",
    "| 0   | 1   | 2   |\n",
    "| 1   | 3   | 4   |\n",
    "| 2   | 5   | 6   |\n",
    "\n",
    "Calling `df.to_csv('file.csv')` will produce a CSV file like this:\n",
    "\n",
    "```\n",
    ",A,B\n",
    "0,1,2\n",
    "1,3,4\n",
    "2,5,6\n",
    "```\n",
    "\n",
    "But if you call `df.to_csv('file.csv', index=False)`, the CSV file will look like this:\n",
    "\n",
    "```\n",
    "A,B\n",
    "1,2\n",
    "3,4\n",
    "5,6\n",
    "```\n",
    "\n",
    "As you can see, the index column (0, 1, 2) is not written into the CSV file when `index=False`.\n"
   ]
  },
  {
   "cell_type": "code",
   "execution_count": null,
   "metadata": {},
   "outputs": [],
   "source": [
    "# Second challenge\n",
    "text2 = \"id,\tname,\thourly_wage,\thours_worked,\\\n",
    "10310,\tLauren Durham,\t19,\t43,\\\n",
    "18656,\tGrace Sellers,\t17,\t40,\\\n",
    "61254,\tShirley Rasmussen,\t16,\t30,\\\n",
    "16886,\tBrian Rojas,\t18,\t47,\\\n",
    "89010,\tSamantha Mosley,\t11,\t38,\\\n",
    "87246,\tLouis Guzman,\t14,\t39,\\\n",
    "20578,\tDenise Mcclure,\t15,\t40,\\\n",
    "12869,\tJames Raymond,\t15,\t32,\\\n",
    "53461,\tNoah Collier,\t18,\t35,\\\n",
    "14746,\tDonna Frederick,\t20,\t41,\\\n",
    "171127,\tShirley Beck,\t14,\t32,\\\n",
    "192522,\tChristina Kelly,\t8,\t44,\\\n",
    "122447,\tBrian Noble,\t11,\t39,\\\n",
    "161654,\tRandy Key,\t16,\t38,\\\n",
    "116988,\tDiana Stewart,\t14,\t48,\\\n",
    "168619,\tTimothy Sosa,\t14,\t42,\\\n",
    "159949,\tBetty Skinner,\t11,\t48,\\\n",
    "181418,\tJanet Maxwell,\t12,\t38,\\\n",
    "127267,\tMadison Johnston,\t20,\t37,\\\n",
    "119985,\tVirginia Nichols,\t13,\t49,\""
   ]
  },
  {
   "cell_type": "code",
   "execution_count": null,
   "metadata": {},
   "outputs": [],
   "source": [
    "df_work = pd.read_csv(\"./data/worker.csv\")\n",
    "df_work.head(10)"
   ]
  },
  {
   "cell_type": "code",
   "execution_count": null,
   "metadata": {},
   "outputs": [],
   "source": [
    "get_last_name = lambda name: name.split()[-1]\n",
    "\n",
    "df_work[\"last_name\"] = df_work.name.apply(get_last_name)"
   ]
  },
  {
   "cell_type": "code",
   "execution_count": null,
   "metadata": {},
   "outputs": [],
   "source": [
    "df_work"
   ]
  },
  {
   "cell_type": "code",
   "execution_count": null,
   "metadata": {},
   "outputs": [],
   "source": [
    "total_earned = (\n",
    "    lambda row: (40 * row.hourly_wage)\n",
    "    + (row.hours_worked - 40) * (1.5 * row.hourly_wage)\n",
    "    if row.hours_worked > 40\n",
    "    else (row.hours_worked * row.hourly_wage)\n",
    ")"
   ]
  },
  {
   "cell_type": "code",
   "execution_count": null,
   "metadata": {},
   "outputs": [],
   "source": [
    "df_work[\"total_earned\"] = df_work.apply(total_earned, axis=1)\n",
    "df_work"
   ]
  },
  {
   "cell_type": "code",
   "execution_count": null,
   "metadata": {},
   "outputs": [],
   "source": []
  }
 ],
 "metadata": {
  "kernelspec": {
   "display_name": "Python 3",
   "language": "python",
   "name": "python3"
  },
  "language_info": {
   "codemirror_mode": {
    "name": "ipython",
    "version": 3
   },
   "file_extension": ".py",
   "mimetype": "text/x-python",
   "name": "python",
   "nbconvert_exporter": "python",
   "pygments_lexer": "ipython3",
   "version": "3.11.7"
  }
 },
 "nbformat": 4,
 "nbformat_minor": 2
}
