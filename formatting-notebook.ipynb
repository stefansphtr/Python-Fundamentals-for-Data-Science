{
 "cells": [
  {
   "cell_type": "markdown",
   "metadata": {},
   "source": [
    "# Formatting Notebook\n",
    "\n",
    "---\n"
   ]
  },
  {
   "cell_type": "markdown",
   "metadata": {},
   "source": [
    "## Styling\n",
    "\n",
    "1. Strong\n",
    "   - **Bold**\n",
    "   - **Bold**\n",
    "2. Emphasize\n",
    "   - _Italic_\n",
    "   - _Italic_\n",
    "3. Strikethrough\n",
    "   - ~~Strikethrough~~\n"
   ]
  },
  {
   "cell_type": "markdown",
   "metadata": {},
   "source": [
    "## Code\n",
    "\n",
    "1. Inlinde Code\n",
    "   - `print(\"Hello World\")`\n",
    "2. Code Block\n",
    "   - Python\n",
    "     ```py\n",
    "     print(\"Hello World\")\n",
    "     ```\n",
    "   - JavaScript\n",
    "     ```js\n",
    "     console.log(\"Hello World\");\n",
    "     ```\n",
    "   - SQL\n",
    "     ```sql\n",
    "     SELECT * FROM table\n",
    "     ```\n"
   ]
  },
  {
   "cell_type": "markdown",
   "metadata": {},
   "source": [
    "## Lists\n",
    "\n",
    "1. Ordered List\n",
    "   1. Ordered List\n",
    "   2. Ordered List\n",
    "2. Unordered List\n",
    "   - Unordered List\n",
    "   - Unordered List\n",
    "   * Unordered List\n",
    "   * Unordered List\n"
   ]
  }
 ],
 "metadata": {
  "language_info": {
   "name": "python"
  }
 },
 "nbformat": 4,
 "nbformat_minor": 2
}
