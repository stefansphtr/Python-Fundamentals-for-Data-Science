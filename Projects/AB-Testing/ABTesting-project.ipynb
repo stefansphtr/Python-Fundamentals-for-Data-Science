{
 "cells": [
  {
   "cell_type": "markdown",
   "metadata": {},
   "source": [
    "# A/B Testing for Shoefly.com\n",
    "\n",
    "- Name: Stefanus Bernard Melkisedek\n",
    "- Codecademy: [@DatenMeister](https://www.codecademy.com/profiles/DatenMeister)\n",
    "- Course: Python Pandas for Data Science\n",
    "- Sub-course: Aggregates in Pandas\n"
   ]
  },
  {
   "cell_type": "markdown",
   "metadata": {},
   "source": [
    "## Project Description\n",
    "\n",
    "The online shoe store have two different versions of an ad, which they have placed in emails, as well as in banner ads on Facebook, Twitter, and Google. They want to know how the two ads are performing on each of the different platforms on each day of the week.\n"
   ]
  },
  {
   "cell_type": "markdown",
   "metadata": {},
   "source": [
    "## Project Goals\n",
    "\n",
    "- Analyze the data using aggregate measures\n",
    "- Compare the effectiveness of two different versions of an ad\n",
    "- Recommend the ad which the company should use for future marketing campaign\n"
   ]
  },
  {
   "cell_type": "markdown",
   "metadata": {},
   "source": [
    "## Data Wrangling\n"
   ]
  },
  {
   "cell_type": "code",
   "execution_count": null,
   "metadata": {},
   "outputs": [],
   "source": [
    "# import necessary library\n",
    "import pandas as pd"
   ]
  },
  {
   "cell_type": "code",
   "execution_count": null,
   "metadata": {},
   "outputs": [],
   "source": [
    "# Load the csv files into the dataframe\n",
    "df_ad_clicks = pd.read_csv(\"./data/ad_clicks.csv\")\n",
    "\n",
    "# View the first 10 rows of the dataset\n",
    "df_ad_clicks.head(10)"
   ]
  },
  {
   "cell_type": "markdown",
   "metadata": {},
   "source": [
    "## Exploratory Data Analysis\n"
   ]
  },
  {
   "cell_type": "markdown",
   "metadata": {},
   "source": [
    "### 1. Which ad platform is getting the most views?\n"
   ]
  },
  {
   "cell_type": "code",
   "execution_count": null,
   "metadata": {},
   "outputs": [],
   "source": [
    "# Group the dataframe by 'utm_source' and count the number of 'user_id' for each group\n",
    "df_grouped = df_ad_clicks.groupby(\"utm_source\").user_id.count()\n",
    "\n",
    "# Reset the index of the grouped dataframe\n",
    "df_reset = df_grouped.reset_index()\n",
    "\n",
    "# Sort the dataframe in descending order by 'user_id'\n",
    "df_sorted = df_reset.sort_values(by=\"user_id\", ascending=False)\n",
    "\n",
    "# Get the first row of the sorted dataframe\n",
    "df_most_view = df_sorted.head(1)\n",
    "\n",
    "# Rename the columns for better understanding\n",
    "df_most_view.rename(\n",
    "    columns={\"utm_source\": \"ad_platform\", \"user_id\": \"count\"}, inplace=True\n",
    ")\n",
    "\n",
    "# Display the dataframe\n",
    "df_most_view"
   ]
  },
  {
   "cell_type": "markdown",
   "metadata": {},
   "source": [
    "### 2. What is the percentage of people who clicked on ads from each platform?\n"
   ]
  },
  {
   "cell_type": "code",
   "execution_count": null,
   "metadata": {},
   "outputs": [],
   "source": [
    "# Create a new column 'is_click' in the dataframe 'df_ad_clicks'.\n",
    "# This column will be True if 'ad_click_timestamp' is not NaN (i.e., there was a click), and False otherwise.\n",
    "df_ad_clicks[\"is_click\"] = ~df_ad_clicks.ad_click_timestamp.isna()\n",
    "\n",
    "# Create a new dataframe 'df_not_clicks' that contains the first 10 rows from 'df_ad_clicks' where 'is_click' is False.\n",
    "df_not_clicks = df_ad_clicks[df_ad_clicks[\"is_click\"] == False].head(10)\n",
    "\n",
    "# Create a new dataframe 'df_clicks' that contains the first 10 rows from 'df_ad_clicks' where 'is_click' is True.\n",
    "df_clicks = df_ad_clicks[df_ad_clicks[\"is_click\"] == True].head(10)"
   ]
  },
  {
   "cell_type": "code",
   "execution_count": null,
   "metadata": {},
   "outputs": [],
   "source": [
    "df_ad_clicks.head()"
   ]
  },
  {
   "cell_type": "code",
   "execution_count": null,
   "metadata": {},
   "outputs": [],
   "source": [
    "# Group the 'df_ad_clicks' dataframe by 'utm_source' and 'is_click' columns\n",
    "# Count the number of 'user_id' for each group\n",
    "# Reset the index of the resulting dataframe\n",
    "# This will give us the number of clicks for each ad source\n",
    "click_percent = (\n",
    "    df_ad_clicks.groupby([\"utm_source\", \"is_click\"])\n",
    "    .user_id.count()\n",
    "    .reset_index()\n",
    ")\n",
    "\n",
    "# Display the first 5 rows of the dataframe\n",
    "# This will give us a quick overview of the data\n",
    "click_percent.head()"
   ]
  },
  {
   "cell_type": "code",
   "execution_count": null,
   "metadata": {},
   "outputs": [],
   "source": [
    "# Pivot the 'click_percent' dataframe to create a new dataframe 'clicks_pivot'.\n",
    "# The 'utm_source' column values will become the new index.\n",
    "# The 'is_click' column values will become the new columns.\n",
    "# The 'user_id' column values will fill the new dataframe.\n",
    "# Reset the index of the resulting dataframe and remove the axis name.\n",
    "clicks_pivot = (\n",
    "    click_percent\n",
    "    .pivot(index=\"utm_source\", columns=\"is_click\", values=\"user_id\")\n",
    "    .reset_index()\n",
    "    .rename_axis(None, axis=1)\n",
    ")\n",
    "\n",
    "# Rename the columns of 'clicks_pivot' for better understanding.\n",
    "# 'utm_source' is renamed to 'platform', False is renamed to 'false', and True is renamed to 'true'.\n",
    "clicks_pivot.rename(columns={\"utm_source\": \"platform\", False: \"false\", True: \"true\"}, inplace=True)\n",
    "\n",
    "# Display the first 5 rows of 'clicks_pivot' to get a quick overview of the data.\n",
    "clicks_pivot.head()"
   ]
  },
  {
   "cell_type": "code",
   "execution_count": null,
   "metadata": {},
   "outputs": [],
   "source": [
    "# Calculate the percentage of clicks for each platform.\n",
    "# This is done by dividing the number of true clicks by the total number of clicks (true + false).\n",
    "# The result is multiplied by 100 to get a percentage and rounded to 2 decimal places.\n",
    "# The result is stored in a new column 'percent_clicked' in the 'clicks_pivot' dataframe.\n",
    "clicks_pivot[\"percent_clicked\"] = (\n",
    "    round(clicks_pivot.true / (clicks_pivot.true + clicks_pivot.false) * 100, 2)\n",
    ")\n",
    "\n",
    "# Display the 'clicks_pivot' dataframe.\n",
    "clicks_pivot"
   ]
  }
 ],
 "metadata": {
  "kernelspec": {
   "display_name": "Python 3",
   "language": "python",
   "name": "python3"
  },
  "language_info": {
   "codemirror_mode": {
    "name": "ipython",
    "version": 3
   },
   "file_extension": ".py",
   "mimetype": "text/x-python",
   "name": "python",
   "nbconvert_exporter": "python",
   "pygments_lexer": "ipython3",
   "version": "3.11.7"
  }
 },
 "nbformat": 4,
 "nbformat_minor": 2
}
