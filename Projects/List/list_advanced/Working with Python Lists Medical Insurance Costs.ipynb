{
 "cells": [
  {
   "cell_type": "markdown",
   "id": "3d8b0184",
   "metadata": {},
   "source": [
    "# Working with Python Lists: Medical Insurance Costs Project\n"
   ]
  },
  {
   "cell_type": "markdown",
   "id": "b124b501",
   "metadata": {},
   "source": [
    "You are a doctor sorting through medical insurance cost data for some patients.\n",
    "\n",
    "Using your knowledge of Python lists, you will store medical data and see what valuable insights you can gain from that data.\n",
    "\n",
    "Let's get started!\n"
   ]
  },
  {
   "cell_type": "markdown",
   "id": "3967696d",
   "metadata": {},
   "source": [
    "## Exploring List Data\n"
   ]
  },
  {
   "cell_type": "markdown",
   "id": "5c1ed983",
   "metadata": {},
   "source": [
    "1. First, take a look at the two lists in the code block below.\n",
    "\n",
    "   The list `names` stores the names of ten individuals, and `insurance_costs` stores their medical insurance costs.\n",
    "\n",
    "   Let's add additional data to these lists:\n",
    "\n",
    "   - Append a new individual, `\"Priscilla\"`, to `names`.\n",
    "   - Append her insurance cost, `8320.0` to `insurance_costs`.\n"
   ]
  },
  {
   "cell_type": "code",
   "execution_count": null,
   "id": "b49d92da",
   "metadata": {},
   "outputs": [],
   "source": [
    "names = [\n",
    "    \"Mohamed\",\n",
    "    \"Sara\",\n",
    "    \"Xia\",\n",
    "    \"Paul\",\n",
    "    \"Valentina\",\n",
    "    \"Jide\",\n",
    "    \"Aaron\",\n",
    "    \"Emily\",\n",
    "    \"Nikita\",\n",
    "    \"Paul\",\n",
    "]\n",
    "\n",
    "\n",
    "insurance_costs = [\n",
    "    13262.0,\n",
    "    4816.0,\n",
    "    6839.0,\n",
    "    5054.0,\n",
    "    14724.0,\n",
    "    5360.0,\n",
    "    7640.0,\n",
    "    6072.0,\n",
    "    2750.0,\n",
    "    12064.0,\n",
    "]\n",
    "\n",
    "names.append(\"Priscilla\")\n",
    "insurance_costs.append(8320.0)\n",
    "\n",
    "print(names)\n",
    "print(insurance_costs)"
   ]
  },
  {
   "cell_type": "markdown",
   "id": "3e8995c6",
   "metadata": {},
   "source": [
    "2. Currently, the `names` and `insurance_costs` lists are separate, but we want each insurance cost to be paired with a name.\n",
    "\n",
    "   Create a new variable called `medical_records` that combines `insurance_costs` and `names` into a list using the `zip()` function.\n",
    "\n",
    "   The list should have the following structure:\n",
    "\n",
    "   ```py\n",
    "   [(cost_0, name_0), (cost_1, name_1), (cost_2, name_2), ...]\n",
    "   ```\n"
   ]
  },
  {
   "cell_type": "code",
   "execution_count": null,
   "id": "e63ae8e7",
   "metadata": {},
   "outputs": [],
   "source": [
    "medical_records = list(zip(insurance_costs, names))"
   ]
  },
  {
   "cell_type": "markdown",
   "id": "c55bed8e",
   "metadata": {},
   "source": [
    "3. Print out `medical_records` below, and make sure the output is what you expected.\n"
   ]
  },
  {
   "cell_type": "code",
   "execution_count": null,
   "id": "3f46631e",
   "metadata": {},
   "outputs": [],
   "source": [
    "print(medical_records)"
   ]
  },
  {
   "cell_type": "markdown",
   "id": "c7526357",
   "metadata": {},
   "source": [
    "4. Let's explore our medical data.\n",
    "\n",
    "   We want to see how many medical records we are dealing with. Create a variable called `num_medical_records` that stores the length of `medical_records`.\n"
   ]
  },
  {
   "cell_type": "code",
   "execution_count": null,
   "id": "b1558949",
   "metadata": {},
   "outputs": [],
   "source": [
    "num_medical_records = len(medical_records)"
   ]
  },
  {
   "cell_type": "markdown",
   "id": "6362dbf0",
   "metadata": {},
   "source": [
    "5. Print `num_medical_records` with the following message:\n",
    "\n",
    "   ```\n",
    "   There are {number of medical records} medical records.\n",
    "   ```\n"
   ]
  },
  {
   "cell_type": "code",
   "execution_count": null,
   "id": "fbdc5495",
   "metadata": {},
   "outputs": [],
   "source": [
    "print(f\"There are {num_medical_records} medical records.\")"
   ]
  },
  {
   "cell_type": "markdown",
   "id": "5f386c4f",
   "metadata": {},
   "source": [
    "## Selecting List Elements\n"
   ]
  },
  {
   "cell_type": "markdown",
   "id": "89b7ec6c",
   "metadata": {},
   "source": [
    "6. Select the first medical record in `medical_records`, and save it to a variable called `first_medical_record`.\n"
   ]
  },
  {
   "cell_type": "code",
   "execution_count": null,
   "id": "53b88931",
   "metadata": {},
   "outputs": [],
   "source": [
    "first_medical_records = medical_records[0]"
   ]
  },
  {
   "cell_type": "markdown",
   "id": "11f4431d",
   "metadata": {},
   "source": [
    "7. Print `first_medical_record` with the following message:\n",
    "\n",
    "   ```\n",
    "   Here is the first medical record: {first medical record}\n",
    "   ```\n"
   ]
  },
  {
   "cell_type": "code",
   "execution_count": null,
   "id": "762a3af7",
   "metadata": {},
   "outputs": [],
   "source": [
    "print(f\"Here is the first medical record: {first_medical_records}\")"
   ]
  },
  {
   "cell_type": "markdown",
   "id": "61dc8ab3",
   "metadata": {},
   "source": [
    "## Sorting Lists\n"
   ]
  },
  {
   "cell_type": "markdown",
   "id": "555162db",
   "metadata": {},
   "source": [
    "8. Sort `medical_records` so that the individuals with the lowest insurance costs appear at the start of the list.\n",
    "\n",
    "   Print the sorted `medical_records` with the following message:\n",
    "\n",
    "   ```\n",
    "   Here are the medical records sorted by insurance cost: {sorted list}\n",
    "   ```\n"
   ]
  },
  {
   "cell_type": "code",
   "execution_count": null,
   "id": "8e23efbb",
   "metadata": {},
   "outputs": [],
   "source": [
    "# First solution\n",
    "# medical_records.sort()\n",
    "# print(f\"Here are the medical records sorted by insurance cost: {medical_records}\")\n",
    "\n",
    "# Second solution\n",
    "sorted_medical_records = sorted(medical_records)\n",
    "print(\n",
    "    f\"Here are the medical records sorted by insurance cost: {sorted_medical_records}\"\n",
    ")"
   ]
  },
  {
   "cell_type": "markdown",
   "id": "8e3b29f8",
   "metadata": {},
   "source": [
    "## Slicing Lists\n"
   ]
  },
  {
   "cell_type": "markdown",
   "id": "2586554b",
   "metadata": {},
   "source": [
    "9. Let's look at the three cheapest insurance costs in our medical records.\n",
    "\n",
    "   Slice the `medical_records` list, and store the three cheapest insurance costs in a list called `cheapest_three`.\n"
   ]
  },
  {
   "cell_type": "code",
   "execution_count": null,
   "id": "4155c88f",
   "metadata": {},
   "outputs": [],
   "source": [
    "cheapest_three = sorted_medical_records[0:3]"
   ]
  },
  {
   "cell_type": "markdown",
   "id": "8c06c9f3",
   "metadata": {},
   "source": [
    "10. Print `cheapest_three` with the following message:\n",
    "\n",
    "    ```py\n",
    "    Here are the three cheapest insurance costs in our medical records: {cheapest three}\n",
    "    ```\n"
   ]
  },
  {
   "cell_type": "code",
   "execution_count": null,
   "id": "1b9284dc",
   "metadata": {},
   "outputs": [],
   "source": [
    "print(\n",
    "    f\"Here are the three cheapest insurance costs in our medical records: {cheapest_three}\"\n",
    ")"
   ]
  },
  {
   "cell_type": "markdown",
   "id": "5cb6dd31",
   "metadata": {},
   "source": [
    "11. Let's look at the three most expensive insurance costs in our medical records.\n",
    "\n",
    "    Slice the `medical_records` list, and store the three most expensive insurance costs in a list called `priciest_three`.\n"
   ]
  },
  {
   "cell_type": "code",
   "execution_count": null,
   "id": "017e1171",
   "metadata": {},
   "outputs": [],
   "source": [
    "priciest_three = sorted_medical_records[-3:]"
   ]
  },
  {
   "cell_type": "markdown",
   "id": "80054480",
   "metadata": {},
   "source": [
    "12. Print `priciest_three` with the following message:\n",
    "\n",
    "    ```\n",
    "    Here are the three most expensive insurance costs in our medical records: {priciest three}\n",
    "    ```\n"
   ]
  },
  {
   "cell_type": "code",
   "execution_count": null,
   "id": "0ced2fb2",
   "metadata": {},
   "outputs": [],
   "source": [
    "print(\n",
    "    f\"Here are the three most expensive insurance costs in our medical records: {priciest_three}\"\n",
    ")"
   ]
  },
  {
   "cell_type": "markdown",
   "id": "d0ccbf5e",
   "metadata": {},
   "source": [
    "## Counting Elements in a List\n"
   ]
  },
  {
   "cell_type": "markdown",
   "id": "8e0c2d7b",
   "metadata": {},
   "source": [
    "13. Some individuals in our medical records have the same name. For example, the name \"Paul\" shows up twice.\n",
    "\n",
    "    Count the number of occurrences of \"Paul\" in the `names` list, and store the result in a variable called `occurrences_paul`.\n",
    "\n",
    "    Print `occurrences_paul` with the following message:\n",
    "\n",
    "    ```\n",
    "    There are {occurrences Paul} individuals with the name Paul in our medical records.\n",
    "    ```\n"
   ]
  },
  {
   "cell_type": "code",
   "execution_count": null,
   "id": "1527cbb8",
   "metadata": {},
   "outputs": [],
   "source": [
    "# Create a function to calculate the number of occurences in a list\n",
    "def count_same_name(name_list, word):\n",
    "    \"\"\"\n",
    "    Counts the number of occurrences of a given word in a list.\n",
    "\n",
    "    Parameters:\n",
    "    - list (list): The list to search for occurrences of the word.\n",
    "    - word (str): The word to count occurrences of.\n",
    "\n",
    "    Returns:\n",
    "    - count_num (int): The number of occurrences of the word in the list.\n",
    "    \"\"\"\n",
    "    # count_num = 0\n",
    "    # for name in name_list:\n",
    "    #     if name == word:\n",
    "    #         count_num += 1\n",
    "    # return count_num\n",
    "    return name_list.count(word)\n",
    "\n",
    "\n",
    "# Save the num of occurences Paul in the occurences_paul variable\n",
    "occurences_paul = count_same_name(names, \"Paul\")\n",
    "\n",
    "# Print the result\n",
    "print(\n",
    "    f\"There are {occurences_paul} individuals with the name Paul in our medical records.\"\n",
    ")"
   ]
  },
  {
   "cell_type": "markdown",
   "id": "64a3032a",
   "metadata": {},
   "source": [
    "## Extra\n"
   ]
  },
  {
   "cell_type": "markdown",
   "id": "2850c8be",
   "metadata": {},
   "source": [
    "14. Great job! In this project, you worked with Python lists to store medical insurance cost data and then gained meaningful insight into that data.\n",
    "\n",
    "    You now have a better understanding of how to interact with data in lists - an important skill for a data scientist to have.\n",
    "\n",
    "    Our dataset in this project was pretty small - we only dealt with 11 medical records. However, as you progress in your data science journey, you will encounter larger and more complex datasets. You are now better prepared to work with data in lists moving forward.\n",
    "\n",
    "    If you'd like additional practice on lists, here are some ways you might extend this project:\n",
    "\n",
    "    - Sort the medical records alphabetically by name. You'll have to create a new list using `zip()` to do this.\n",
    "    - Select the medical records starting at index `3` and ending at index `7` and save it to a variable called `middle_five_records`.\n",
    "\n",
    "    Happy coding!\n"
   ]
  },
  {
   "cell_type": "code",
   "execution_count": null,
   "id": "149284a0",
   "metadata": {},
   "outputs": [],
   "source": []
  },
  {
   "cell_type": "code",
   "execution_count": null,
   "id": "575e405c",
   "metadata": {},
   "outputs": [],
   "source": []
  }
 ],
 "metadata": {
  "kernelspec": {
   "display_name": "Python 3 (ipykernel)",
   "language": "python",
   "name": "python3"
  },
  "language_info": {
   "codemirror_mode": {
    "name": "ipython",
    "version": 3
   },
   "file_extension": ".py",
   "mimetype": "text/x-python",
   "name": "python",
   "nbconvert_exporter": "python",
   "pygments_lexer": "ipython3",
   "version": "3.11.7"
  }
 },
 "nbformat": 4,
 "nbformat_minor": 5
}
