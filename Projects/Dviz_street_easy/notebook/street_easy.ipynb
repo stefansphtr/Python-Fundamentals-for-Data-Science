{
 "cells": [
  {
   "cell_type": "markdown",
   "metadata": {},
   "source": [
    "# Exploratory Data Analysis (EDA): Data Visualization\n",
    "\n",
    "---\n"
   ]
  },
  {
   "cell_type": "code",
   "execution_count": null,
   "metadata": {},
   "outputs": [],
   "source": [
    "# Load libraries\n",
    "import numpy as np\n",
    "import pandas as pd\n",
    "import matplotlib.pyplot as plt\n",
    "import seaborn as sns"
   ]
  },
  {
   "cell_type": "code",
   "execution_count": null,
   "metadata": {},
   "outputs": [],
   "source": [
    "# Load the dataset\n",
    "rentals = pd.read_csv(\"../data/streeteasy.csv\")\n",
    "rentals.head()"
   ]
  },
  {
   "cell_type": "markdown",
   "metadata": {},
   "source": [
    "## Univariate Analysis\n",
    "\n",
    "---\n"
   ]
  },
  {
   "cell_type": "markdown",
   "metadata": {},
   "source": [
    "### Question\n",
    "\n",
    "- What is the typical price of a rental in New York City?\n",
    "- What proportion of NYC rentals have a gym?\n"
   ]
  },
  {
   "cell_type": "markdown",
   "metadata": {},
   "source": [
    "#### Quantitative Variables\n"
   ]
  },
  {
   "cell_type": "code",
   "execution_count": null,
   "metadata": {},
   "outputs": [],
   "source": [
    "# Create the plot\n",
    "sns.boxplot(x=\"rent\", data=rentals)\n",
    "plt.show()"
   ]
  },
  {
   "cell_type": "markdown",
   "metadata": {},
   "source": [
    "We can see that most rental prices fall within a range of $2500-$5000; however, there are many outliers, particularly on the high end.\n"
   ]
  },
  {
   "cell_type": "code",
   "execution_count": null,
   "metadata": {},
   "outputs": [],
   "source": [
    "# Create a histogram of the rent variable\n",
    "sns.displot(rentals.rent, bins=10, kde=False)\n",
    "plt.show()"
   ]
  },
  {
   "cell_type": "code",
   "execution_count": null,
   "metadata": {},
   "outputs": [],
   "source": [
    "# Increasing bins num for the histogram of the rent variable\n",
    "sns.displot(rentals.rent, bins=50, kde=False)\n",
    "plt.show()"
   ]
  },
  {
   "cell_type": "markdown",
   "metadata": {},
   "source": [
    "The histogram above shows the skewed distribution of rental prices in New York City. The majority of rental prices fall within the range of $2500-$5000, with a peak around $3000. However, there are many outliers, particularly on the high end, with some rentals priced at over $10,000.\n"
   ]
  },
  {
   "cell_type": "markdown",
   "metadata": {},
   "source": [
    "#### Categorical Variables\n"
   ]
  },
  {
   "cell_type": "code",
   "execution_count": null,
   "metadata": {},
   "outputs": [],
   "source": [
    "# Create boxplot of the counts in the borough variable\n",
    "# The palette paramter will set the color scheme for the plot\n",
    "sns.countplot(x=\"borough\", data=rentals, hue=\"borough\", legend=False, palette=\"winter\")\n",
    "plt.show()"
   ]
  },
  {
   "cell_type": "markdown",
   "metadata": {},
   "source": [
    "From the bar chart above, we can see that most available apartments for each borough are in Manhattan, followed by Brooklyn. The Queens borough has the fewest available apartments."
   ]
  },
  {
   "cell_type": "code",
   "execution_count": null,
   "metadata": {},
   "outputs": [],
   "source": [
    "sns.color_palette(\"PiYG\")"
   ]
  },
  {
   "cell_type": "code",
   "execution_count": null,
   "metadata": {},
   "outputs": [],
   "source": [
    "# Define the labels in the pie chart\n",
    "pie_labels = rentals[\"borough\"].unique().tolist()\n",
    "pie_labels\n",
    "\n",
    "# Define palette for the pie chart\n",
    "pie_colors = sns.color_palette(\"pastel\")\n",
    "\n",
    "# Create a pie chart of the available apartments in the borough variable\n",
    "plt.pie(\n",
    "    x=rentals.borough.value_counts(),\n",
    "    labels=pie_labels,\n",
    "    autopct=\"%1.1f%%\",\n",
    "    colors=pie_colors,\n",
    "    shadow=True,\n",
    "    \n",
    ")\n",
    "\n",
    "plt.axis(\"equal\")\n",
    "plt.show()"
   ]
  }
 ],
 "metadata": {
  "kernelspec": {
   "display_name": "Python 3",
   "language": "python",
   "name": "python3"
  },
  "language_info": {
   "codemirror_mode": {
    "name": "ipython",
    "version": 3
   },
   "file_extension": ".py",
   "mimetype": "text/x-python",
   "name": "python",
   "nbconvert_exporter": "python",
   "pygments_lexer": "ipython3",
   "version": "3.11.8"
  }
 },
 "nbformat": 4,
 "nbformat_minor": 2
}
