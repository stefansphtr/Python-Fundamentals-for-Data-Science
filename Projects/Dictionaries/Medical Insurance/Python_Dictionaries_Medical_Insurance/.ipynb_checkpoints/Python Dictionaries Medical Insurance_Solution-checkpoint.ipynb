{
 "cells": [
  {
   "cell_type": "markdown",
   "id": "4558db8c",
   "metadata": {},
   "source": [
    "# Python Dictionaries: Medical Insurance Project"
   ]
  },
  {
   "cell_type": "markdown",
   "id": "95ca6c34",
   "metadata": {},
   "source": [
    "You have been asked to create a program that organizes and updates medical records efficiently.\n",
    "\n",
    "In this project, you will use your new knowledge of Python dictionaries to create a database of medical records for patients.\n",
    "\n",
    "Let's get started!"
   ]
  },
  {
   "cell_type": "markdown",
   "id": "43064b93",
   "metadata": {},
   "source": [
    "## Storing Patient Names and Insurance Costs"
   ]
  },
  {
   "cell_type": "markdown",
   "id": "236d7f10",
   "metadata": {},
   "source": [
    "1. We would like to keep a record of medical patients and their insurance costs.\n",
    "\n",
    "   First, create an empty dictionary called `medical_costs`."
   ]
  },
  {
   "cell_type": "code",
   "execution_count": null,
   "id": "4408fc16",
   "metadata": {},
   "outputs": [],
   "source": [
    "medical_costs = {}"
   ]
  },
  {
   "cell_type": "markdown",
   "id": "50b3d120",
   "metadata": {},
   "source": [
    "2. Let's populate our `medical_costs` dictionary by adding the following key-value pairs:\n",
    "   - Add `\"Marina\"` to `medical_costs` as a key with a value of `6607.0`.\n",
    "   - Add `\"Vinay\"` to `medical_costs` as a key with a value of `3225.0`."
   ]
  },
  {
   "cell_type": "code",
   "execution_count": null,
   "id": "1b659b71",
   "metadata": {},
   "outputs": [],
   "source": [
    "medical_costs[\"Marina\"] = 6607.0\n",
    "medical_costs[\"Vinay\"] = 3225.0"
   ]
  },
  {
   "cell_type": "markdown",
   "id": "09c0e352",
   "metadata": {},
   "source": [
    "3. Using one line of code, add the following three patients to the `medical_costs` dictionary:\n",
    "   - `\"Connie\"`, with an insurance cost of `8886.0`.\n",
    "   - `\"Isaac\"`, with an insurance cost of `16444.0`.\n",
    "   - `\"Valentina\"`, with an insurance cost of `6420.0`."
   ]
  },
  {
   "cell_type": "code",
   "execution_count": null,
   "id": "2f3c39f8",
   "metadata": {},
   "outputs": [],
   "source": [
    "medical_costs.update({\"Connie\": 8886.0, \"Isaac\": 16444.0, \"Valentina\": 6420.0})"
   ]
  },
  {
   "cell_type": "markdown",
   "id": "6f6f5d87",
   "metadata": {},
   "source": [
    "4. Print `medical_costs`. Make sure the dictionary is what you expected."
   ]
  },
  {
   "cell_type": "code",
   "execution_count": null,
   "id": "5ccf1041",
   "metadata": {},
   "outputs": [],
   "source": [
    "print(medical_costs)"
   ]
  },
  {
   "cell_type": "markdown",
   "id": "11460845",
   "metadata": {},
   "source": [
    "5. You notice that `Vinay`'s insurance cost was incorrectly inputted. Update the value associated with `Vinay` to `3325.0`.\n",
    "\n",
    "   Print the updated dictionary."
   ]
  },
  {
   "cell_type": "code",
   "execution_count": null,
   "id": "5087981c",
   "metadata": {},
   "outputs": [],
   "source": [
    "medical_costs[\"Vinay\"] = 3325.0\n",
    "print(medical_costs)"
   ]
  },
  {
   "cell_type": "markdown",
   "id": "c8acb08b",
   "metadata": {},
   "source": [
    "6. Let's calculate the average medical cost of each patient. Create a variable called `total_cost` and set it equal to 0.\n",
    "\n",
    "   Next, iterate through the values in `medical_costs` and add each value to the `total_cost` variable."
   ]
  },
  {
   "cell_type": "code",
   "execution_count": null,
   "id": "f5c3bc5f",
   "metadata": {},
   "outputs": [],
   "source": [
    "total_cost = 0\n",
    "for cost in medical_costs.values():\n",
    "    total_cost += cost"
   ]
  },
  {
   "cell_type": "markdown",
   "id": "4f83234b",
   "metadata": {},
   "source": [
    "7. After the loop, create a variable called `average_cost` that stores the `total_cost` divided by the length of the `medical_costs` dictionary.\n",
    "\n",
    "   Print `average_cost` with the following message:\n",
    "   \n",
    "   ```\n",
    "   Average Insurance Cost: {average_cost}\n",
    "   ```"
   ]
  },
  {
   "cell_type": "code",
   "execution_count": null,
   "id": "3aead625",
   "metadata": {},
   "outputs": [],
   "source": [
    "average_cost = total_cost/len(medical_costs)\n",
    "print(\"Average Insurance Cost: \" + str(average_cost))"
   ]
  },
  {
   "cell_type": "markdown",
   "id": "a29225be",
   "metadata": {},
   "source": [
    "## List Comprehension to Dictionary"
   ]
  },
  {
   "cell_type": "markdown",
   "id": "9c7b389f",
   "metadata": {},
   "source": [
    "8. You have been asked to create a second dictionary that maps patient names to their ages.\n",
    "\n",
    "   First, create two lists called `names` and `ages` with the following data:\n",
    "   \n",
    "   names | ages\n",
    "   --- | ---\n",
    "   Marina | 27\n",
    "   Vinay | 24\n",
    "   Connie | 43\n",
    "   Isaac | 35\n",
    "   Valentina | 52"
   ]
  },
  {
   "cell_type": "code",
   "execution_count": null,
   "id": "7ab52431",
   "metadata": {},
   "outputs": [],
   "source": [
    "names = [\"Marina\", \"Vinay\", \"Connie\", \"Isaac\", \"Valentina\"]\n",
    "ages = [27, 24, 43, 35, 52]"
   ]
  },
  {
   "cell_type": "markdown",
   "id": "c56fd442",
   "metadata": {},
   "source": [
    "9. Next, create a variable called `zipped_ages` that is a zipped list of pairs between the `names` list and the `ages` list."
   ]
  },
  {
   "cell_type": "code",
   "execution_count": null,
   "id": "b07df4ff",
   "metadata": {},
   "outputs": [],
   "source": [
    "zipped_ages = zip(names, ages)"
   ]
  },
  {
   "cell_type": "markdown",
   "id": "0a7885ac",
   "metadata": {},
   "source": [
    "10. Create a dictionary called `names_to_ages` by using a list comprehension that iterates through `zipped_ages` and turns each pair into a key : value item.\n",
    "\n",
    "    Print `names_to_ages` to see the result."
   ]
  },
  {
   "cell_type": "code",
   "execution_count": null,
   "id": "9b578932",
   "metadata": {},
   "outputs": [],
   "source": [
    "names_to_ages = {key: value for key, value in zipped_ages}\n",
    "print(names_to_ages)"
   ]
  },
  {
   "cell_type": "markdown",
   "id": "e1be9b59",
   "metadata": {},
   "source": [
    "11. Use `.get()` to get the value of Marina's age and store it in a variable called `marina_age`. Use `None` as a default value if the key doesn't exist.\n",
    "\n",
    "    Print `marina_age` with the following message:\n",
    "    \n",
    "    ```\n",
    "    Marina's age is {marina_age}\n",
    "    ```"
   ]
  },
  {
   "cell_type": "code",
   "execution_count": null,
   "id": "871343a1",
   "metadata": {},
   "outputs": [],
   "source": [
    "marina_age = names_to_ages.get(\"Marina\", None)\n",
    "print(\"Marina's age is \" + str(marina_age))"
   ]
  },
  {
   "cell_type": "markdown",
   "id": "a13b2f60",
   "metadata": {},
   "source": [
    "## Using a Dictionary to Create a Medical Database"
   ]
  },
  {
   "cell_type": "markdown",
   "id": "f2b85e40",
   "metadata": {},
   "source": [
    "12. Let's create a third dictionary to represent a database of medical records that contains information such as a patient's name, age, sex, gender, BMI, number of children, smoker status, and insurance cost.\n",
    "\n",
    "    First, create an empty dictionary called `medical_records`."
   ]
  },
  {
   "cell_type": "code",
   "execution_count": null,
   "id": "a2444a09",
   "metadata": {},
   "outputs": [],
   "source": [
    "medical_records = {}"
   ]
  },
  {
   "cell_type": "markdown",
   "id": "4dff2b40",
   "metadata": {},
   "source": [
    "13. Next, add `\"Marina\"` to `medical_records` as a key with the value being a dictionary of medical data:\n",
    "\n",
    "    ```py\n",
    "    {\"Age\": 27, \"Sex\": \"Female\", \"BMI\": 31.1, \"Children\": 2, \"Smoker\": \"Non-smoker\", \"Insurance_cost\": 6607.0}\n",
    "    ```"
   ]
  },
  {
   "cell_type": "code",
   "execution_count": null,
   "id": "1d04776d",
   "metadata": {},
   "outputs": [],
   "source": [
    "medical_records[\"Marina\"] = {\"Age\": 27, \"Sex\": \"Female\", \"BMI\": 31.1, \"Children\": 2, \"Smoker\": \"Non-smoker\", \"Insurance_cost\": 6607.0}"
   ]
  },
  {
   "cell_type": "markdown",
   "id": "805fe6af",
   "metadata": {},
   "source": [
    "14. Do the same for the following individuals:\n",
    "    \n",
    "    Name | Age | Sex | BMI | Children | Smoker | Insurance Cost\n",
    "    --- | --- | --- | --- | --- | --- | ---\n",
    "    Vinay | 24 | Male | 26.9 | 0 | Non-smoker | 3225.0\n",
    "    Connie | 43 | Female | 25.3 | 3 | Non-smoker | 8886.0\n",
    "    Isaac | 35 | Male | 20.6 | 4 | Smoker | 16444.0\n",
    "    Valentina | 52 | Female | 18.7 | 1 | Non-smoker | 6420.0"
   ]
  },
  {
   "cell_type": "code",
   "execution_count": null,
   "id": "922055d2",
   "metadata": {},
   "outputs": [],
   "source": [
    "medical_records[\"Vinay\"] = {\"Age\": 24, \"Sex\": \"Male\", \"BMI\": 26.9, \"Children\": 0, \"Smoker\": \"Non-smoker\", \"Insurance_cost\": 3225.0}\n",
    "medical_records[\"Connie\"] = {\"Age\": 43, \"Sex\": \"Female\", \"BMI\": 25.3, \"Children\": 3, \"Smoker\": \"Non-smoker\", \"Insurance_cost\": 8886.0}\n",
    "medical_records[\"Isaac\"] = {\"Age\": 35, \"Sex\": \"Male\", \"BMI\": 20.6, \"Children\": 4, \"Smoker\": \"Smoker\", \"Insurance_cost\": 16444.0}\n",
    "medical_records[\"Valentina\"] = {\"Age\": 52, \"Sex\": \"Female\", \"BMI\": 18.7, \"Children\": 1, \"Smoker\": \"Non-smoker\", \"Insurance_cost\": 6420.0}"
   ]
  },
  {
   "cell_type": "markdown",
   "id": "03cd2db1",
   "metadata": {},
   "source": [
    "15. Print `medical_records` to see the result."
   ]
  },
  {
   "cell_type": "code",
   "execution_count": null,
   "id": "f2f03cc7",
   "metadata": {},
   "outputs": [],
   "source": [
    "print(medical_records)"
   ]
  },
  {
   "cell_type": "markdown",
   "id": "79ec2239",
   "metadata": {},
   "source": [
    "16. The `medical_records` dictionary acts like a database of medical records. Let's access a specific piece of data in `medical_records`.\n",
    "\n",
    "    Print out `Connie`'s insurance cost with the following message:\n",
    "    \n",
    "    ```\n",
    "    Connie's insurance cost is X dollars.\n",
    "    ```"
   ]
  },
  {
   "cell_type": "code",
   "execution_count": null,
   "id": "93d6e3bb",
   "metadata": {},
   "outputs": [],
   "source": [
    "print(\"Connie's insurance cost is \" + str(medical_records[\"Connie\"][\"Insurance_cost\"]) + \" dollars.\")"
   ]
  },
  {
   "cell_type": "markdown",
   "id": "df413886",
   "metadata": {},
   "source": [
    "17. `Vinay` has moved to a new country, and we no longer want to include him in our medical records.\n",
    "\n",
    "    Remove `Vinay` from `medical_records`."
   ]
  },
  {
   "cell_type": "code",
   "execution_count": null,
   "id": "b09cc25c",
   "metadata": {},
   "outputs": [],
   "source": [
    "medical_records.pop(\"Vinay\")"
   ]
  },
  {
   "cell_type": "markdown",
   "id": "faf2ef2d",
   "metadata": {},
   "source": [
    "18. Let's take a closer look at each patient's medical record.\n",
    "\n",
    "    Use a `for` loop to iterate through the items of `medical_records`. For each key-value pair, print out a string that looks like the following:\n",
    "    \n",
    "    ```\n",
    "    {Name} is a {Age} year old {Sex} {Smoker} with a BMI of {BMI} and insurance cost of {Insurance_cost}\n",
    "    ```"
   ]
  },
  {
   "cell_type": "code",
   "execution_count": null,
   "id": "f6cf9aa8",
   "metadata": {},
   "outputs": [],
   "source": [
    "for name, record in medical_records.items():\n",
    "    print(name + \" is a \" + str(record[\"Age\"]) + \\\n",
    "          \" year old \" + record[\"Sex\"] + \" \" + record[\"Smoker\"] \\\n",
    "         + \" with a BMI of \" + str(record[\"BMI\"]) + \\\n",
    "         \" and insurance cost of \" + str(record[\"Insurance_cost\"]))"
   ]
  },
  {
   "cell_type": "markdown",
   "id": "58b6f2b5",
   "metadata": {},
   "source": [
    "## Extra"
   ]
  },
  {
   "cell_type": "markdown",
   "id": "f7bfccce",
   "metadata": {},
   "source": [
    "19. Congratulations! In this project, you used Python dictionaries to store and update medical data for individuals.\n",
    "\n",
    "    If you'd like extra practice with dictionaries, here are some suggestions to go further with this project:\n",
    "    - Create a function called `update_medical_records()` that takes in the name of an individual as well as their medical data, and then updates the `medical_records` dictionary accordingly.\n",
    "    - Create a new dictionary of your choice - feel free to get creative!\n",
    "    \n",
    "    Happy coding!"
   ]
  },
  {
   "cell_type": "code",
   "execution_count": null,
   "id": "d08c9d59",
   "metadata": {},
   "outputs": [],
   "source": []
  },
  {
   "cell_type": "code",
   "execution_count": null,
   "id": "f3be6fc0",
   "metadata": {},
   "outputs": [],
   "source": []
  }
 ],
 "metadata": {
  "kernelspec": {
   "display_name": "Python 3",
   "language": "python",
   "name": "python3"
  },
  "language_info": {
   "codemirror_mode": {
    "name": "ipython",
    "version": 3
   },
   "file_extension": ".py",
   "mimetype": "text/x-python",
   "name": "python",
   "nbconvert_exporter": "python",
   "pygments_lexer": "ipython3",
   "version": "3.8.5"
  }
 },
 "nbformat": 4,
 "nbformat_minor": 5
}
