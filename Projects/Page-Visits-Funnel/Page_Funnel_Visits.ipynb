{
 "cells": [
  {
   "cell_type": "markdown",
   "metadata": {},
   "source": [
    "# Page Funnel Visits Project\n",
    "\n",
    "- Name: Stefanus Bernard Melkisedek\n",
    "- Codecademy: [@DatenMeister](https://www.codecademy.com/profiles/DatenMeister)\n",
    "- GitHub: [@stefansphtr](https://github.com/stefansphtr)"
   ]
  },
  {
   "cell_type": "code",
   "execution_count": null,
   "metadata": {},
   "outputs": [],
   "source": [
    "# Import library\n",
    "import pandas as pd"
   ]
  },
  {
   "cell_type": "markdown",
   "metadata": {},
   "source": [
    "Import all the files"
   ]
  },
  {
   "cell_type": "code",
   "execution_count": null,
   "metadata": {},
   "outputs": [],
   "source": [
    "visits = pd.read_csv('./data/visits.csv',\n",
    "                     parse_dates=[1])\n",
    "cart = pd.read_csv('./data/cart.csv',\n",
    "                   parse_dates=[1])\n",
    "                   \n",
    "checkout = pd.read_csv('./data/checkout.csv',\n",
    "                       parse_dates=[1])\n",
    "purchase = pd.read_csv('./data/purchase.csv',\n",
    "                       parse_dates=[1])\n",
    "\n",
    "# parse_dates=[1] is used to specify the column index that should be parsed as a date,\n",
    "# The parse_dates=[1] in the visits dataframe is the same as parse_dates=['visit_time'] "
   ]
  },
  {
   "cell_type": "markdown",
   "metadata": {},
   "source": [
    "Step 1: Inspect the DataFrames using `print` and `head`"
   ]
  },
  {
   "cell_type": "code",
   "execution_count": null,
   "metadata": {},
   "outputs": [],
   "source": [
    "# This print statement use when these line of code is running on python file\n",
    "# If these code running in python interactive notebook (.ipynb) it's more readable to just use\n",
    "# visits.head() ==> this will automatically show the five first row of the visits dataframe \n",
    "print(visits.head(5))\n",
    "print(cart.head(5))\n",
    "print(checkout.head(5))\n",
    "print(purchase.head(5))"
   ]
  },
  {
   "cell_type": "code",
   "execution_count": null,
   "metadata": {},
   "outputs": [],
   "source": [
    "visits.head()"
   ]
  },
  {
   "cell_type": "code",
   "execution_count": null,
   "metadata": {},
   "outputs": [],
   "source": [
    "cart.head()"
   ]
  },
  {
   "cell_type": "code",
   "execution_count": null,
   "metadata": {},
   "outputs": [],
   "source": [
    "checkout.head()"
   ]
  },
  {
   "cell_type": "code",
   "execution_count": null,
   "metadata": {},
   "outputs": [],
   "source": [
    "purchase.head()"
   ]
  },
  {
   "cell_type": "markdown",
   "metadata": {},
   "source": [
    "Step 2: Left merging visits and cart"
   ]
  },
  {
   "cell_type": "code",
   "execution_count": null,
   "metadata": {},
   "outputs": [],
   "source": [
    "# Merge visits and cart table\n",
    "visits_cart = pd.merge(\n",
    "    visits,\n",
    "    cart,\n",
    "    how='left'\n",
    ")"
   ]
  },
  {
   "cell_type": "markdown",
   "metadata": {},
   "source": [
    "Step 3: How long is `visits_cart`?"
   ]
  },
  {
   "cell_type": "code",
   "execution_count": null,
   "metadata": {},
   "outputs": [],
   "source": [
    "visits_cart.info()"
   ]
  },
  {
   "cell_type": "code",
   "execution_count": null,
   "metadata": {},
   "outputs": [],
   "source": [
    "visits_cart.shape[1]"
   ]
  },
  {
   "cell_type": "code",
   "execution_count": null,
   "metadata": {},
   "outputs": [],
   "source": [
    "total_visited = len(visits_cart)\n",
    "total_visited"
   ]
  },
  {
   "cell_type": "markdown",
   "metadata": {},
   "source": [
    "The number of rows of the visits_cart DataFrame is **2000 rows**, with **3 columns**. The number of **rows non-null in the cart_time** from the visits_cart DataFrame **is 348** rows while the number of rows non-null in the cart_time from the cart DataFrame is 2000 rows. **This means** that **there are 1652 rows** in the visits_cart DataFrame that **have a null value** in the cart_time column."
   ]
  },
  {
   "cell_type": "markdown",
   "metadata": {},
   "source": [
    "Step 4: How many timestamps are null for `cart_time`?"
   ]
  },
  {
   "cell_type": "code",
   "execution_count": null,
   "metadata": {},
   "outputs": [],
   "source": [
    "# Create a DataFrame 'na_cart_time' \n",
    "# where 'cart_time' column is null in the 'cart' DataFrame\n",
    "na_cart_time = visits_cart[visits_cart.cart_time.isnull()]\n",
    "na_cart_time"
   ]
  },
  {
   "cell_type": "code",
   "execution_count": null,
   "metadata": {},
   "outputs": [],
   "source": [
    "# Calculate the total number of null values \n",
    "# in the 'cart_time' column of the 'cart' DataFrame\n",
    "null_cart_time = na_cart_time.isnull().sum().sum()\n",
    "null_cart_time"
   ]
  },
  {
   "cell_type": "markdown",
   "metadata": {},
   "source": [
    "Step 5: What percentage only visited?"
   ]
  },
  {
   "cell_type": "code",
   "execution_count": null,
   "metadata": {},
   "outputs": [],
   "source": [
    "# First solution\n",
    "\n",
    "# Only visit is mark as the user whose recorded in the visit dataset and not in the cart dataset\n",
    "\n",
    "# Total number of unique users who visited\n",
    "total_visits = visits.user_id.nunique()\n",
    "\n",
    "# Total number of users who added something to the cart\n",
    "total_cart = cart.user_id.nunique()\n",
    "\n",
    "# Number of users who only visited but did not add to cart\n",
    "only_visits = total_visits - total_cart\n",
    "\n",
    "# Calculate the percentage\n",
    "percentage_user_visit = round((only_visits / total_visits) * 100, 2)\n",
    "\n",
    "# Display the percentage user who only visited\n",
    "print(f'The percentage of users whose only visited the Cool T-Shirt Inc. is {percentage_user_visit}%')"
   ]
  },
  {
   "cell_type": "code",
   "execution_count": null,
   "metadata": {},
   "outputs": [],
   "source": [
    "# Second Solution\n",
    "pct_only_visited = (float(null_cart_time) / float(total_visited)) * 100  \n",
    "\n",
    "# Display the percentage of users who only visited\n",
    "print(f'The percentage of users whose only visited the cool T-Shirt Inc. is {pct_only_visited}%')"
   ]
  },
  {
   "cell_type": "markdown",
   "metadata": {},
   "source": [
    "Step 6: What percentage placed a t-shirt in their cart but did not checkout?"
   ]
  },
  {
   "cell_type": "code",
   "execution_count": null,
   "metadata": {},
   "outputs": [],
   "source": [
    "# Left merge cart and checkout dataset\n",
    "cart_checkout = pd.merge(\n",
    "    cart,\n",
    "    checkout,\n",
    "    how='left'\n",
    ")\n",
    "cart_checkout.head()"
   ]
  },
  {
   "cell_type": "code",
   "execution_count": null,
   "metadata": {},
   "outputs": [],
   "source": [
    "null_checkout_times = cart_checkout.checkout_time.isnull().sum()\n",
    "# null_checkout_times = len(cart_checkout[cart_checkout.checkout_time.isna()])\n",
    "null_checkout_times"
   ]
  },
  {
   "cell_type": "code",
   "execution_count": null,
   "metadata": {},
   "outputs": [],
   "source": [
    "cart_not_checkout = round((float(null_checkout_times) / float(len(cart.user_id))) * 100, 2)\n",
    "\n",
    "# Display the percentage of users who placed a t-shirt in their cart but did not checkout\n",
    "print(f'The percentage of users who only put the T-shirt into the cart is {cart_not_checkout}%')"
   ]
  },
  {
   "cell_type": "markdown",
   "metadata": {},
   "source": [
    "Step 7: Merge it all together"
   ]
  },
  {
   "cell_type": "code",
   "execution_count": null,
   "metadata": {},
   "outputs": [],
   "source": [
    "all_data = (\n",
    "    visits_cart.merge(cart_checkout, how='left')\n",
    "    .merge(purchase, how='left')\n",
    ")\n",
    "all_data.head()\n"
   ]
  },
  {
   "cell_type": "markdown",
   "metadata": {},
   "source": [
    "Step 8: % of users who got to checkout but did not purchase"
   ]
  },
  {
   "cell_type": "code",
   "execution_count": null,
   "metadata": {},
   "outputs": [],
   "source": [
    "null_purchase_time = all_data.purchase_time.isna().sum()\n",
    "null_purchase_time"
   ]
  },
  {
   "cell_type": "code",
   "execution_count": null,
   "metadata": {},
   "outputs": [],
   "source": [
    "pct_checkout_not_purchase = round((float(null_purchase_time) / float(len(all_data))) * 100, 2)\n",
    "\n",
    "# Display the percentage of users who checkout a t-shirt but did not purchase\n",
    "print(f'The percentage of users who only checkout the T-shirt is {pct_checkout_not_purchase}%')"
   ]
  },
  {
   "cell_type": "markdown",
   "metadata": {},
   "source": [
    "Step 9: check each part of the funnel, let's print all 3 of them again"
   ]
  },
  {
   "cell_type": "code",
   "execution_count": null,
   "metadata": {},
   "outputs": [],
   "source": [
    "print(f'The percentage of users whose only visited the cool T-Shirt Inc. is {pct_only_visited}%')\n",
    "print(f'The percentage of users who only put the T-shirt into the cart is {cart_not_checkout}%')\n",
    "print(f'The percentage of users who only checkout the T-shirt is {pct_checkout_not_purchase}%')"
   ]
  },
  {
   "cell_type": "markdown",
   "metadata": {},
   "source": [
    "*The weakest part of the funnel is clearly getting a person who visited the site to add a tshirt to their cart. Once they've added a t-shirt to their cart it is fairly likely they end up purchasing it. A suggestion could be to make the add-to-cart button more prominent on the front page.*"
   ]
  },
  {
   "cell_type": "markdown",
   "metadata": {},
   "source": [
    "## Average time to Purchase"
   ]
  },
  {
   "cell_type": "markdown",
   "metadata": {},
   "source": [
    "Step 10: adding new column"
   ]
  },
  {
   "cell_type": "code",
   "execution_count": null,
   "metadata": {},
   "outputs": [],
   "source": [
    "all_data['visit_to_purchase'] = all_data.purchase_time - all_data.visit_time\n",
    "\n",
    "# Convert the duration into total minutes\n",
    "all_data['visit_to_purchase_minutes'] = all_data['visit_to_purchase'].dt.total_seconds() / 60"
   ]
  },
  {
   "cell_type": "markdown",
   "metadata": {},
   "source": [
    "Step 11: examine the results"
   ]
  },
  {
   "cell_type": "code",
   "execution_count": null,
   "metadata": {},
   "outputs": [],
   "source": [
    "print(all_data.visit_to_purchase_minutes)"
   ]
  },
  {
   "cell_type": "markdown",
   "metadata": {},
   "source": [
    "Step 12: average time to purchase"
   ]
  },
  {
   "cell_type": "code",
   "execution_count": null,
   "metadata": {},
   "outputs": [],
   "source": [
    "avg_time_to_purchase = round(all_data.visit_to_purchase_minutes.mean(), 2)"
   ]
  },
  {
   "cell_type": "code",
   "execution_count": null,
   "metadata": {},
   "outputs": [],
   "source": [
    "print(f\"The average time for user to purchase the item from visiting the store takes : {avg_time_to_purchase} minutes.\")"
   ]
  }
 ],
 "metadata": {
  "kernelspec": {
   "display_name": "Python 3",
   "language": "python",
   "name": "python3"
  },
  "language_info": {
   "codemirror_mode": {
    "name": "ipython",
    "version": 3
   },
   "file_extension": ".py",
   "mimetype": "text/x-python",
   "name": "python",
   "nbconvert_exporter": "python",
   "pygments_lexer": "ipython3",
   "version": "3.11.7"
  }
 },
 "nbformat": 4,
 "nbformat_minor": 4
}
