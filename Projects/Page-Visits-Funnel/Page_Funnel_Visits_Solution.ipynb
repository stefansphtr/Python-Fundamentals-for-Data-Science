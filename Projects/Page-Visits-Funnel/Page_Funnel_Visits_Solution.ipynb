{
 "cells": [
  {
   "cell_type": "code",
   "execution_count": null,
   "metadata": {},
   "outputs": [],
   "source": [
    "import pandas as pd"
   ]
  },
  {
   "cell_type": "code",
   "execution_count": null,
   "metadata": {},
   "outputs": [],
   "source": [
    "checkout = pd.read_csv('checkout.csv',\n",
    "                       parse_dates=[1])\n",
    "checkout.drop_duplicates(['user_id'],inplace=True)\n",
    "checkout.to_csv('checkout-dedupe.csv',index=False)"
   ]
  },
  {
   "cell_type": "markdown",
   "metadata": {},
   "source": [
    "Import all the files"
   ]
  },
  {
   "cell_type": "code",
   "execution_count": null,
   "metadata": {},
   "outputs": [],
   "source": [
    "visits = pd.read_csv('visits.csv',\n",
    "                     parse_dates=[1])\n",
    "cart = pd.read_csv('cart.csv',\n",
    "                   parse_dates=[1])\n",
    "                   \n",
    "checkout = pd.read_csv('checkout.csv',\n",
    "                       parse_dates=[1])\n",
    "purchase = pd.read_csv('purchase.csv',\n",
    "                       parse_dates=[1])"
   ]
  },
  {
   "cell_type": "markdown",
   "metadata": {},
   "source": [
    "Step 1: Inspect the DataFrames using `print` and `head`"
   ]
  },
  {
   "cell_type": "code",
   "execution_count": null,
   "metadata": {},
   "outputs": [],
   "source": [
    "print(visits.head(5))\n",
    "print(cart.head(5))\n",
    "print(checkout.head(5))\n",
    "print(purchase.head(5))"
   ]
  },
  {
   "cell_type": "markdown",
   "metadata": {},
   "source": [
    "Step 2: Left merging visits and cart"
   ]
  },
  {
   "cell_type": "code",
   "execution_count": null,
   "metadata": {},
   "outputs": [],
   "source": [
    "visits_cart = visits.merge(cart, how = 'left')\n",
    "\n",
    "visits_cart.head()"
   ]
  },
  {
   "cell_type": "markdown",
   "metadata": {},
   "source": [
    "Step 3: How long is `visits_cart`?"
   ]
  },
  {
   "cell_type": "code",
   "execution_count": null,
   "metadata": {},
   "outputs": [],
   "source": [
    "total_visits = len(visits_cart)\n",
    "\n",
    "print(total_visits)"
   ]
  },
  {
   "cell_type": "markdown",
   "metadata": {},
   "source": [
    "Step 4: How many timestamps are null for `cart_time`?"
   ]
  },
  {
   "cell_type": "code",
   "execution_count": null,
   "metadata": {},
   "outputs": [],
   "source": [
    "null_cart_times = len(visits_cart[visits_cart.cart_time.isnull()])\n",
    "\n",
    "print(null_cart_times)"
   ]
  },
  {
   "cell_type": "markdown",
   "metadata": {},
   "source": [
    "*We see that `cart_time` has 1652 null values. This tells us that 1652 of the 2000 people who visited the site never made it to the cart.*\n",
    "\n",
    "Step 5: What percentage only visited?"
   ]
  },
  {
   "cell_type": "code",
   "execution_count": null,
   "metadata": {},
   "outputs": [],
   "source": [
    "visited_not_cart = float(null_cart_times) / float(total_visits)\n",
    "\n",
    "print(visited_not_cart)"
   ]
  },
  {
   "cell_type": "markdown",
   "metadata": {},
   "source": [
    "Step 6: What percentage placed a t-shirt in their cart but did not checkout?"
   ]
  },
  {
   "cell_type": "code",
   "execution_count": null,
   "metadata": {},
   "outputs": [],
   "source": [
    "cart_checkout = cart.merge(checkout, how = 'left')\n",
    "\n",
    "print(cart_checkout.head())\n",
    "\n",
    "null_checkout_times = len(cart_checkout[cart_checkout.checkout_time.isnull()])\n",
    "\n",
    "cart_not_checkout = float(null_checkout_times) / float(len(cart))\n",
    "\n",
    "print(\"Cart but not checkout:\", cart_not_checkout)"
   ]
  },
  {
   "cell_type": "markdown",
   "metadata": {},
   "source": [
    "Step 7: Merge it all together"
   ]
  },
  {
   "cell_type": "code",
   "execution_count": null,
   "metadata": {},
   "outputs": [],
   "source": [
    "all_data = visits_cart\\\n",
    ".merge(cart_checkout, how = 'left')\\\n",
    ".merge(purchase, how = 'left')\n",
    "\n",
    "print(all_data.head(5))\n"
   ]
  },
  {
   "cell_type": "markdown",
   "metadata": {},
   "source": [
    "Step 8: % of users who got to checkout but did not purchase"
   ]
  },
  {
   "cell_type": "code",
   "execution_count": null,
   "metadata": {},
   "outputs": [],
   "source": [
    "reached_checkout = all_data[~all_data.checkout_time.isnull()]\n",
    "\n",
    "checkout_not_purchase = all_data[(all_data.purchase_time.isnull()) & (~all_data.checkout_time.isnull())]\n",
    "\n",
    "checkout_not_purchase_percent = float(len(checkout_not_purchase)) / float(len(reached_checkout))\n",
    "\n",
    "print(\"% of users who got to checkout but did not purchase:\",checkout_not_purchase_percent)"
   ]
  },
  {
   "cell_type": "markdown",
   "metadata": {},
   "source": [
    "Step 9: check each part of the funnel, let's print all 3 of them again"
   ]
  },
  {
   "cell_type": "code",
   "execution_count": null,
   "metadata": {},
   "outputs": [],
   "source": [
    "print(\"{} percent of users who visited the page did not add a t-shirt to their cart\".format(round(visited_not_cart*100, 2)))\n",
    "print(\"{} percent of users who added a t-shirt to their cart did not checkout\".format(round(cart_not_checkout*100, 2)))\n",
    "print(\"{} percent of users who made it to checkout  did not purchase a shirt\".format(round( checkout_not_purchase_percent*100, 2)))\n"
   ]
  },
  {
   "cell_type": "markdown",
   "metadata": {},
   "source": [
    "*The weakest part of the funnel is clearly getting a person who visited the site to add a tshirt to their cart. Once they've added a t-shirt to their cart it is fairly likely they end up purchasing it. A suggestion could be to make the add-to-cart button more prominent on the front page.*\n",
    "\n",
    "\n",
    "Step 10: adding new column"
   ]
  },
  {
   "cell_type": "code",
   "execution_count": null,
   "metadata": {},
   "outputs": [],
   "source": [
    "all_data['time_to_purchase'] = \\\n",
    "    all_data.purchase_time - \\\n",
    "    all_data.visit_time"
   ]
  },
  {
   "cell_type": "markdown",
   "metadata": {},
   "source": [
    "Step 11: examine the results"
   ]
  },
  {
   "cell_type": "code",
   "execution_count": null,
   "metadata": {},
   "outputs": [],
   "source": [
    "print(all_data.time_to_purchase)"
   ]
  },
  {
   "cell_type": "markdown",
   "metadata": {},
   "source": [
    "Step 12: average time to purchase"
   ]
  },
  {
   "cell_type": "code",
   "execution_count": null,
   "metadata": {},
   "outputs": [],
   "source": [
    "print(all_data.time_to_purchase.mean())"
   ]
  },
  {
   "cell_type": "code",
   "execution_count": null,
   "metadata": {},
   "outputs": [],
   "source": []
  }
 ],
 "metadata": {
  "kernelspec": {
   "display_name": "Python 3",
   "language": "python",
   "name": "python3"
  },
  "language_info": {
   "codemirror_mode": {
    "name": "ipython",
    "version": 3
   },
   "file_extension": ".py",
   "mimetype": "text/x-python",
   "name": "python",
   "nbconvert_exporter": "python",
   "pygments_lexer": "ipython3",
   "version": "3.8.5"
  }
 },
 "nbformat": 4,
 "nbformat_minor": 4
}
