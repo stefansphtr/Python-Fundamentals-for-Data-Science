{
 "cells": [
  {
   "cell_type": "markdown",
   "metadata": {},
   "source": [
    "# This is Jeopardy!"
   ]
  },
  {
   "cell_type": "markdown",
   "metadata": {},
   "source": [
    "#### Overview"
   ]
  },
  {
   "cell_type": "markdown",
   "metadata": {},
   "source": [
    "This project is slightly different than others you have encountered thus far. Instead of a step-by-step tutorial, this project contains a series of open-ended requirements which describe the project you'll be building. There are many possible ways to correctly fulfill all of these requirements, and you should expect to use the internet, Codecademy, and/or other resources when you encounter a problem that you cannot easily solve."
   ]
  },
  {
   "cell_type": "markdown",
   "metadata": {},
   "source": [
    "#### Project Goals"
   ]
  },
  {
   "cell_type": "markdown",
   "metadata": {},
   "source": [
    "You will work to write several functions that investigate a dataset of _Jeopardy!_ questions and answers. Filter the dataset for topics that you're interested in, compute the average difficulty of those questions, and train to become the next Jeopardy champion!"
   ]
  },
  {
   "cell_type": "markdown",
   "metadata": {},
   "source": [
    "## Prerequisites"
   ]
  },
  {
   "cell_type": "markdown",
   "metadata": {},
   "source": [
    "In order to complete this project, you should have completed the Pandas lessons in the <a href=\"https://www.codecademy.com/learn/paths/analyze-data-with-python\">Analyze Data with Python Skill Path</a>. You can also find those lessons in the <a href=\"https://www.codecademy.com/learn/data-processing-pandas\">Data Analysis with Pandas course</a> or the <a href=\"https://www.codecademy.com/learn/paths/data-science/\">Data Scientist Career Path</a>.\n",
    "\n",
    "Finally, the <a href=\"https://www.codecademy.com/learn/practical-data-cleaning\">Practical Data Cleaning</a> course may also be helpful."
   ]
  },
  {
   "cell_type": "markdown",
   "metadata": {},
   "source": [
    "## Project Requirements"
   ]
  },
  {
   "cell_type": "markdown",
   "metadata": {},
   "source": [
    "1. We've provided a csv file containing data about the game show _Jeopardy!_ in a file named `jeopardy.csv`. Load the data into a DataFrame and investigate its contents. Try to print out specific columns.\n",
    "\n",
    "   Note that in order to make this project as \"real-world\" as possible, we haven't modified the data at all - we're giving it to you exactly how we found it. As a result, this data isn't as \"clean\" as the datasets you normally find on Codecademy. More specifically, there's something odd about the column names. After you figure out the problem with the column names, you may want to rename them to make your life easier for the rest of the project.\n",
    "   \n",
    "   In order to display the full contents of a column, we've added this line of code for you:\n",
    "   \n",
    "   ```py\n",
    "   pd.set_option('display.max_colwidth', None)\n",
    "   ```"
   ]
  },
  {
   "cell_type": "code",
   "execution_count": null,
   "metadata": {},
   "outputs": [],
   "source": [
    "# Import libary\n",
    "import pandas as pd\n",
    "import random\n",
    "import sys\n",
    "\n",
    "# Set the display option to show the full content of each column\n",
    "pd.set_option('display.max_colwidth', None)"
   ]
  },
  {
   "cell_type": "code",
   "execution_count": null,
   "metadata": {},
   "outputs": [],
   "source": [
    "# Load the dataset into the dataframe\n",
    "df_jeopardy = pd.read_csv('./data/jeopardy.csv', parse_dates=[1])"
   ]
  },
  {
   "cell_type": "code",
   "execution_count": null,
   "metadata": {},
   "outputs": [],
   "source": [
    "df_jeopardy.head()"
   ]
  },
  {
   "cell_type": "code",
   "execution_count": null,
   "metadata": {},
   "outputs": [],
   "source": [
    "df_jeopardy.info()"
   ]
  },
  {
   "cell_type": "code",
   "execution_count": null,
   "metadata": {},
   "outputs": [],
   "source": [
    "df_jeopardy[' Round'].unique()"
   ]
  },
  {
   "cell_type": "code",
   "execution_count": null,
   "metadata": {},
   "outputs": [],
   "source": [
    "# The dataset csv has more spacing that needs to removes the trailing spaces\n",
    "df_jeopardy = df_jeopardy.rename(columns= lambda x: x.strip())"
   ]
  },
  {
   "cell_type": "code",
   "execution_count": null,
   "metadata": {},
   "outputs": [],
   "source": [
    "# Show the column after removing the trailing spaces\n",
    "print(df_jeopardy['Round'].head())\n",
    "print(df_jeopardy['Category'].head())\n",
    "print(df_jeopardy['Value'].head())"
   ]
  },
  {
   "cell_type": "markdown",
   "metadata": {},
   "source": [
    "Since the **header columns** are all **have** the **first capital letter**, **it's more easier** to analyze **if it's** letter all **in the lowercase**. So, I will **change** the **header columns** to **lowercase**."
   ]
  },
  {
   "cell_type": "code",
   "execution_count": null,
   "metadata": {},
   "outputs": [],
   "source": [
    "# Lower all the letters in the df_jeopardy's header columns\n",
    "df_jeopardy = df_jeopardy.rename(columns= lambda x: x.lower()) "
   ]
  },
  {
   "cell_type": "code",
   "execution_count": null,
   "metadata": {},
   "outputs": [],
   "source": [
    "df_jeopardy.info()"
   ]
  },
  {
   "cell_type": "markdown",
   "metadata": {},
   "source": [
    "It seems that the column header is still need more cleaning, the **space** between the **words** should be **replaced** with **underscore**."
   ]
  },
  {
   "cell_type": "code",
   "execution_count": null,
   "metadata": {},
   "outputs": [],
   "source": [
    "df_jeopardy.rename(columns= lambda x: x.replace(\" \", \"_\"), inplace=True)"
   ]
  },
  {
   "cell_type": "code",
   "execution_count": null,
   "metadata": {},
   "outputs": [],
   "source": [
    "df_jeopardy.info()"
   ]
  },
  {
   "cell_type": "markdown",
   "metadata": {},
   "source": [
    "After the column name is cleaned, I will **change** the column name of **air_date** into **date** and the column name of **value** into **dollar_prize** to make it more understandable, also the **round** column name will be changed into **game_round_type**."
   ]
  },
  {
   "cell_type": "code",
   "execution_count": null,
   "metadata": {},
   "outputs": [],
   "source": [
    "# Rename all the columns name\n",
    "df_jeopardy.rename(columns={\n",
    "    'air_date':'date',\n",
    "    'value':'dollar_prize',\n",
    "    'round':'game_round_type'\n",
    "}, inplace=True)"
   ]
  },
  {
   "cell_type": "code",
   "execution_count": null,
   "metadata": {},
   "outputs": [],
   "source": [
    "df_jeopardy.head()"
   ]
  },
  {
   "cell_type": "markdown",
   "metadata": {},
   "source": [
    "2. Write a function that filters the dataset for questions that contains all of the words in a list of words. For example, when the list `[\"King\", \"England\"]` was passed to our function, the function returned a DataFrame of 49 rows. Every row had the strings `\"King\"` and `\"England\"` somewhere in its `\" Question\"`.\n",
    "\n",
    "   Test your function by printing out the column containing the question of each row of the dataset."
   ]
  },
  {
   "cell_type": "code",
   "execution_count": null,
   "metadata": {},
   "outputs": [],
   "source": [
    "# Define function that return the rows for the words in the question\n",
    "def filter_questions(df, words):\n",
    "    \"\"\"\n",
    "    Filters a DataFrame of Jeopardy questions based on a list of words.\n",
    "\n",
    "    Args:\n",
    "        df (pandas.DataFrame): The DataFrame containing the Jeopardy questions.\n",
    "        words (list): A list of words to filter the questions.\n",
    "\n",
    "    Returns:\n",
    "        pandas.DataFrame: The filtered DataFrame containing only the questions that contain all the specified words.\n",
    "    \"\"\"\n",
    "    # Convert the words to lowercase\n",
    "    words = [word.lower() for word in words]\n",
    "    \n",
    "    # Create a mask where each row is True if all words are in the question\n",
    "    mask = df['question'].apply(lambda x: all(word in x.lower() for word in words))\n",
    "    \n",
    "    return df[mask]"
   ]
  },
  {
   "cell_type": "code",
   "execution_count": null,
   "metadata": {},
   "outputs": [],
   "source": [
    "# Test the function by print out the column containing the question of each row of the dataset\n",
    "filtered_question = filter_questions(df_jeopardy, ['King', 'England'])\n",
    "filtered_question"
   ]
  },
  {
   "cell_type": "markdown",
   "metadata": {},
   "source": [
    "3. Test your original function with a few different sets of words to try to find some ways your function breaks. Edit your function so it is more robust.\n",
    "\n",
    "   For example, think about capitalization. We probably want to find questions that contain the word `\"King\"` or `\"king\"`.\n",
    "   \n",
    "   You may also want to check to make sure you don't find rows that contain substrings of your given words. For example, our function found a question that didn't contain the word `\"king\"`, however it did contain the word `\"viking\"` &mdash; it found the `\"king\"` inside `\"viking\"`. Note that this also comes with some drawbacks &mdash; you would no longer find questions that contained words like `\"England's\"`."
   ]
  },
  {
   "cell_type": "code",
   "execution_count": null,
   "metadata": {},
   "outputs": [],
   "source": [
    "# Test the function to make sure it wont found a substring of the given words\n",
    "filtered_question2 = filter_questions(df_jeopardy, ['Chest', 'Super'])\n",
    "filtered_question2"
   ]
  },
  {
   "cell_type": "code",
   "execution_count": null,
   "metadata": {},
   "outputs": [],
   "source": [
    "# Test the function to make sure it wont found a substring of the given words\n",
    "filtered_question3 = filter_questions(df_jeopardy, ['man', 'amazing'])\n",
    "filtered_question3"
   ]
  },
  {
   "cell_type": "markdown",
   "metadata": {},
   "source": [
    "4. We may want to eventually compute aggregate statistics, like `.mean()` on the `\" Value\"` column. But right now, the values in that column are strings. Convert the`\" Value\"` column to floats. If you'd like to, you can create a new column with float values.\n",
    "\n",
    "   While most of the values in the `\" Value\"` column represent a dollar amount as a string, note that some do not &mdash; these values will need to be handled differently!\n",
    "\n",
    "   Now that you can filter the dataset of question, use your new column that contains the float values of each question to find the \"difficulty\" of certain topics. For example, what is the average value of questions that contain the word `\"King\"`?\n",
    "   \n",
    "   Make sure to use the dataset that contains the float values as the dataset you use in your filtering function."
   ]
  },
  {
   "cell_type": "code",
   "execution_count": null,
   "metadata": {},
   "outputs": [],
   "source": [
    "df_jeopardy.dollar_prize.unique()"
   ]
  },
  {
   "cell_type": "markdown",
   "metadata": {},
   "source": [
    "Since the **dollar_prize** column is still in the **string** format with dollar sign in each value, I will remove the dollar sign and **change** it into **float** format."
   ]
  },
  {
   "cell_type": "code",
   "execution_count": null,
   "metadata": {},
   "outputs": [],
   "source": [
    "df_jeopardy['dollar_prize'] = df_jeopardy['dollar_prize'].apply(lambda x: x.replace('$', ''))"
   ]
  },
  {
   "cell_type": "code",
   "execution_count": null,
   "metadata": {},
   "outputs": [],
   "source": [
    "df_jeopardy.dollar_prize.unique()"
   ]
  },
  {
   "cell_type": "markdown",
   "metadata": {},
   "source": [
    "The value inside the dollar prize is still have **comma** in it, so I will remove the comma and change it into float format."
   ]
  },
  {
   "cell_type": "code",
   "execution_count": null,
   "metadata": {},
   "outputs": [],
   "source": [
    "df_jeopardy['dollar_prize'] = df_jeopardy['dollar_prize'].apply(lambda x: float(x.replace(',', '') if x != 'no value' else 0))"
   ]
  },
  {
   "cell_type": "code",
   "execution_count": null,
   "metadata": {},
   "outputs": [],
   "source": [
    "df_jeopardy.info()"
   ]
  },
  {
   "cell_type": "code",
   "execution_count": null,
   "metadata": {},
   "outputs": [],
   "source": [
    "# Find the average value of the question that contain word \"King\"\n",
    "filtered_question4 = filter_questions(df_jeopardy, ['King'])\n",
    "average_value_king = filtered_question4['dollar_prize'].mean()\n",
    "\n",
    "# Display the average value of the question that contain word \"King\"\n",
    "print(f\"The average price value for the question that contains word King is: ${round(average_value_king, 2)}\")"
   ]
  },
  {
   "cell_type": "markdown",
   "metadata": {},
   "source": [
    "5. Write a function that returns the count of unique answers to all of the questions in a dataset. For example, after filtering the entire dataset to only questions containing the word `\"King\"`, we could then find all of the unique answers to those questions. The answer \"Henry VIII\" appeared 55 times and was the most common answer."
   ]
  },
  {
   "cell_type": "code",
   "execution_count": null,
   "metadata": {},
   "outputs": [],
   "source": [
    "# Create a function to return the num of unique answer from the filtered question\n",
    "def count_unique_answer(df):\n",
    "    return df['answer'].value_counts()\n",
    "\n",
    "# Test the function\n",
    "answer_count = count_unique_answer(filtered_question)\n",
    "print(f\"This is the count of unique answers to all of the questions in a dataset: \\n {answer_count}\")\n",
    "    "
   ]
  },
  {
   "cell_type": "markdown",
   "metadata": {},
   "source": [
    "6. Explore from here! This is an incredibly rich dataset, and there are so many interesting things to discover. There are a few columns that we haven't even started looking at yet. Here are some ideas on ways to continue working with this data:\n",
    "\n",
    " * Investigate the ways in which questions change over time by filtering by the date. How many questions from the 90s use the word `\"Computer\"` compared to questions from the 2000s?\n",
    " * Is there a connection between the round and the category? Are you more likely to find certain categories, like `\"Literature\"` in Single Jeopardy or Double Jeopardy?\n",
    " * Build a system to quiz yourself. Grab random questions, and use the <a href=\"https://docs.python.org/3/library/functions.html#input\">input</a> function to get a response from the user. Check to see if that response was right or wrong."
   ]
  },
  {
   "cell_type": "markdown",
   "metadata": {},
   "source": [
    "- How many questions from the 90s use the word `\"Computer\"` compared to questions from the 2000s?"
   ]
  },
  {
   "cell_type": "code",
   "execution_count": null,
   "metadata": {},
   "outputs": [],
   "source": [
    "df_jeopardy.head()"
   ]
  },
  {
   "cell_type": "code",
   "execution_count": null,
   "metadata": {},
   "outputs": [],
   "source": [
    "# Create a mask for the 90s and 2000s\n",
    "mask_90s = (df_jeopardy['date'].dt.year >= 1990) & (df_jeopardy['date'].dt.year < 2000)\n",
    "mask_2000s = (df_jeopardy['date'].dt.year >= 2000) & (df_jeopardy['date'].dt.year < 2010)\n",
    "\n",
    "# Filter the dataframe for the 90s and 2000s\n",
    "df_90s = df_jeopardy[mask_90s]\n",
    "df_2000s = df_jeopardy[mask_2000s]\n",
    "\n",
    "# Count the number of questions containing the word \"Computer\"\n",
    "count_90s = df_90s['question'].apply(lambda x: x.lower().count('computer')).sum()\n",
    "count_2000s = df_2000s['question'].apply(lambda x: x.lower().count('computer')).sum()\n",
    "\n",
    "print(f\"Number of questions from the 90s containing 'Computer': {count_90s}\")\n",
    "print(f\"Number of questions from the 2000s containing 'Computer': {count_2000s}\")"
   ]
  },
  {
   "cell_type": "markdown",
   "metadata": {},
   "source": [
    "**According to the analysis** of the overall number of computer-related questions asked in the 90s and 2000s, **there was a higher frequency of computer-related inquiries in the 2000s** compared to the 90s. This suggests that people were more interested in asking questions about computers during the 2000s."
   ]
  },
  {
   "cell_type": "markdown",
   "metadata": {},
   "source": [
    "- Is there a connection between the round and the category? Are you more likely to find certain categories, like `\"Literature\"` in Single Jeopardy or Double Jeopardy?"
   ]
  },
  {
   "cell_type": "code",
   "execution_count": null,
   "metadata": {},
   "outputs": [],
   "source": [
    "df_round_category = (\n",
    "    df_jeopardy.groupby('game_round_type')\n",
    "    .category\n",
    "    .count()\n",
    "    .reset_index()\n",
    "    .sort_values(by='category', ascending=False)\n",
    ")\n",
    "df_round_category.head()"
   ]
  },
  {
   "cell_type": "markdown",
   "metadata": {},
   "source": [
    "Based on the analysis above, **there is a connection between the round and the category**. If there is a **rank type**, it is **start from the Jeopardy** for the lower rank **and the highest rank is Tiebreaker**. The higher the rank, the less the number of categories, this means that **the higher the rank**, **the more difficult the question** is."
   ]
  },
  {
   "cell_type": "markdown",
   "metadata": {},
   "source": [
    "- Create a function that generate random questions from the dataset and check the answer from the user input whether it's correct or not."
   ]
  },
  {
   "cell_type": "code",
   "execution_count": null,
   "metadata": {},
   "outputs": [],
   "source": [
    "def jeopardy_quiz(df, num_questions=5):\n",
    "    \"\"\"\n",
    "    Conducts a quiz based on a Jeopardy dataset.\n",
    "\n",
    "    The function picks a specified number of questions randomly from the dataframe, presents them to the user,\n",
    "    and checks the user's answers. The user's score is calculated based on the number of correct answers.\n",
    "\n",
    "    Parameters:\n",
    "    df (pandas.DataFrame): The dataframe containing the Jeopardy data. It should have columns 'question' and 'answer'.\n",
    "    num_questions (int, optional): The number of questions to ask in the quiz. Defaults to 5.\n",
    "\n",
    "    Returns:\n",
    "    None. The function prints the questions, whether the user's answer was correct, and the user's final score.\n",
    "\n",
    "    Example:\n",
    "    >>> df = pd.DataFrame({\n",
    "    ...     'question': ['What is the capital of France?', 'Who wrote \"To Kill a Mockingbird\"?'],\n",
    "    ...     'answer': ['Paris', 'Harper Lee']\n",
    "    ... })\n",
    "    >>> jeopardy_quiz(df, num_questions=1)\n",
    "    Question: What is the capital of France?\n",
    "    Your answer: Paris\n",
    "    Correct!\n",
    "    Your final score is: 100.0\n",
    "    \"\"\"\n",
    "    # Initialize score\n",
    "    score = 0\n",
    "    \n",
    "    for _ in range(num_questions):\n",
    "        # Pick a random question\n",
    "        random_index = random.randint(0, len(df) - 1)\n",
    "        question = df.iloc[random_index]['question']\n",
    "        answer = df.iloc[random_index]['answer']\n",
    "        \n",
    "        # Ask the question\n",
    "        print(f\"Question: {question}\")\n",
    "        sys.stdout.flush()\n",
    "        user_answer = input(\"Your answer: \").strip()\n",
    "        \n",
    "        # Check the answer\n",
    "        if user_answer.lower() == answer.lower():\n",
    "            print(\"Correct!\")\n",
    "            score += float(round(100 / num_questions, 2))\n",
    "        else:\n",
    "            print(f\"Sorry, the correct answer was: {answer}\")\n",
    "    \n",
    "    # Print final score\n",
    "    print(f\"Your final score is: {score}\")\n",
    "\n",
    "# Call the function with the dataframe\n",
    "jeopardy_quiz(df_jeopardy)\n",
    "    "
   ]
  },
  {
   "cell_type": "markdown",
   "metadata": {},
   "source": [
    "## Solution"
   ]
  },
  {
   "cell_type": "markdown",
   "metadata": {},
   "source": [
    "7. Compare your program to our <a href=\"https://content.codecademy.com/PRO/independent-practice-projects/jeopardy/jeopardy_solution.zip\">sample solution code</a> - remember, that your program might look different from ours (and probably will) and that's okay!"
   ]
  },
  {
   "cell_type": "markdown",
   "metadata": {},
   "source": [
    "8. Great work! Visit <a href=\"https://discuss.codecademy.com/t/this-is-jeopardy-challenge-project-python-pandas/462365\">our forums</a> to compare your project to our sample solution code. You can also learn how to host your own solution on GitHub so you can share it with other learners! Your solution might look different from ours, and that's okay! There are multiple ways to solve these projects, and you'll learn more by seeing others' code."
   ]
  },
  {
   "cell_type": "code",
   "execution_count": null,
   "metadata": {},
   "outputs": [],
   "source": []
  }
 ],
 "metadata": {
  "kernelspec": {
   "display_name": "Python 3 (ipykernel)",
   "language": "python",
   "name": "python3"
  },
  "language_info": {
   "codemirror_mode": {
    "name": "ipython",
    "version": 3
   },
   "file_extension": ".py",
   "mimetype": "text/x-python",
   "name": "python",
   "nbconvert_exporter": "python",
   "pygments_lexer": "ipython3",
   "version": "3.11.7"
  }
 },
 "nbformat": 4,
 "nbformat_minor": 2
}
